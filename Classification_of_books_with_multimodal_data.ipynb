{
 "cells": [
  {
   "cell_type": "code",
   "execution_count": 82,
   "id": "8b5ea2f1-0459-4d80-84f2-36cabb65f280",
   "metadata": {},
   "outputs": [],
   "source": [
    "import pandas as pd\n",
    "import numpy as np\n",
    "import matplotlib.pyplot as plt\n",
    "import seaborn as sns\n",
    "import base64\n",
    "import requests\n",
    "from tqdm import tqdm\n",
    "from sklearn.model_selection import train_test_split, GridSearchCV\n",
    "from sklearn.pipeline import Pipeline, make_pipeline\n",
    "from sklearn.compose import ColumnTransformer\n",
    "from sklearn.preprocessing import StandardScaler, OneHotEncoder\n",
    "from sklearn.linear_model import LogisticRegression\n",
    "from sklearn.tree import DecisionTreeClassifier\n",
    "from sklearn.ensemble import RandomForestClassifier\n",
    "from sklearn.svm import SVC\n",
    "from sklearn.feature_extraction.text import TfidfVectorizer\n",
    "from sklearn.decomposition import PCA, TruncatedSVD\n",
    "from sklearn.metrics import accuracy_score, classification_report\n",
    "import joblib"
   ]
  },
  {
   "cell_type": "markdown",
   "id": "6acdf997-f09d-4735-83a9-b078d135a099",
   "metadata": {},
   "source": [
    "# **Classification of books with multimodal data over custom dataset**\n",
    "## \"Judge the book by its cover\""
   ]
  },
  {
   "cell_type": "markdown",
   "id": "1e5a5c7a-40e1-485b-88c1-c9cc2bf73a7d",
   "metadata": {
    "id": "e058b474-dc0e-4654-b135-5051ad05ea23"
   },
   "source": [
    ">*“The purpose of (scientific) computing is insight, not numbers.”*\n",
    "\n",
    "Richard Hamming\n"
   ]
  },
  {
   "cell_type": "markdown",
   "id": "29cc9d50-af06-476e-b4d8-e2ebff42a315",
   "metadata": {},
   "source": [
    "## **Summary**\n",
    "In this project we will apply different data science and machine learning techniques for classification over a custom dataset of annotated books to predict the book category. The practical implications of such classificator could be in the domain of automated sorting for libraries and bookstores which can use such a system to automatically categorize new books, making inventory management more efficient. Other practical use can be in recommendation systems where this system can feed into recommendation engines, suggesting books to customers based on their past preferences. We will use annotated data for the books from biblioman.chitanka.info, a sub project to chitanka.info dedicated in making an extensive annotated database for the books. We will make EDA over the dataset to identify possible usefull features, and we will make new features as well. We will then train and evaluate with cross validation a number of classical machine learning models - Logistic Regression, Decision Tree, Random Forest and SVC to identify the convinient architecture and hyperparameters. When the best model is selected and trained we will inspect its performance over seen and unseen data. In the end we hope to be able to \"Judge the book by its cover\" using the Open AI API for GPT 4."
   ]
  },
  {
   "cell_type": "markdown",
   "id": "5a868cab-9528-410b-822b-2150d1f4bb70",
   "metadata": {},
   "source": [
    "## **1. Data aquisition**"
   ]
  },
  {
   "cell_type": "markdown",
   "id": "5c5ea859-2959-4738-9019-0396fd6a3bbf",
   "metadata": {},
   "source": [
    "The datasets are aquired from the database of biblioman.chitanka.info(\"https://biblioman.chitanka.info/biblioman.sql.gz\"). We will use `book` and `book_category` tables which are extracted with MySQL Workbench 8  as they are  the database as follows. For the sake of the data consistency we populated the `book_category` table column `nr_of_books` with the actual number of books from the `book` table using this query: \n",
    "\n",
    "```UPDATE book_category AS bc\n",
    "SET bc.nr_of_books = (\n",
    "    SELECT COUNT(*) \n",
    "    FROM book AS b\n",
    "    WHERE b.category_id = bc.id\n",
    ");"
   ]
  },
  {
   "cell_type": "markdown",
   "id": "e5621a3c-81e3-4090-ad67-d64b2e25a653",
   "metadata": {},
   "source": [
    "Let's download the data!"
   ]
  },
  {
   "cell_type": "code",
   "execution_count": 2,
   "id": "0475ec14-5a49-4171-bbe9-ff6fcd6fc1a4",
   "metadata": {},
   "outputs": [
    {
     "name": "stderr",
     "output_type": "stream",
     "text": [
      "100%|████████████████████████████████████████████████████████████████████████████████████████| 253M/253M [01:07<00:00, 3.72MB/s]"
     ]
    },
    {
     "name": "stdout",
     "output_type": "stream",
     "text": [
      "File downloaded successfully.\n"
     ]
    },
    {
     "name": "stderr",
     "output_type": "stream",
     "text": [
      "\n"
     ]
    }
   ],
   "source": [
    "##Downloading the dataset.\n",
    "##If on Linux:\n",
    "#!wget http://preslaff.laboletory.com/preslaff/data_science_final_project/data.zip\n",
    "##Then unzip the file\n",
    "\n",
    "#Python code\n",
    "url = \"http://preslaff.laboletory.com/preslaff/ml_final_project/data.zip\"\n",
    "output_file_path = \"data.zip\"\n",
    "\n",
    "response = requests.get(url, stream=True)\n",
    "\n",
    "if response.status_code == 200:\n",
    "    total_size = int(response.headers.get('content-length', 0))\n",
    "    chunk_size = 1024  # You can adjust the chunk size as needed\n",
    "    progress_bar = tqdm(total=total_size, unit='B', unit_scale=True)\n",
    "\n",
    "    with open(output_file_path, \"wb\") as f:\n",
    "        for data in response.iter_content(chunk_size=chunk_size):\n",
    "            progress_bar.update(len(data))\n",
    "            f.write(data)\n",
    "\n",
    "    progress_bar.close()\n",
    "    print(\"File downloaded successfully.\")\n",
    "else:\n",
    "    print(\"Failed to download the file.\")\n",
    "\n",
    "#Or just copy and paste in your browser the hyperlink http://preslaff.laboletory.com/preslaff/ml_final_project/data.zip "
   ]
  },
  {
   "cell_type": "markdown",
   "id": "0857ce53-4d4a-41e6-9944-4953d4fdad21",
   "metadata": {},
   "source": [
    "Now we have:\n",
    "\n",
    "- The dataset with the book's information is in the file `updated_dataset.csv`\n",
    "- The dataset with the book's categories is in the file `book_category_1.csv`\n",
    "- The second testing dataset is in the file `never_seen_data.csv`\n",
    "\n",
    "The saved models are in directory `saved_models`. For the last part of the project we will use images with covers from the books in the  dataset to predict. Covers can be found in the `covers` directory. Some drafts in `drafts` directory."
   ]
  },
  {
   "cell_type": "code",
   "execution_count": 4,
   "id": "c69a8331-7a1a-4212-bd68-1e9c6a772365",
   "metadata": {},
   "outputs": [],
   "source": [
    "books_data = pd.read_csv(\"updated_dataset.csv\")"
   ]
  },
  {
   "cell_type": "code",
   "execution_count": 8,
   "id": "2ad1d633-c46c-4e00-807b-e1ccdcc7651a",
   "metadata": {},
   "outputs": [],
   "source": [
    "books_category = pd.read_csv(\"book_category_1.csv\")"
   ]
  },
  {
   "cell_type": "code",
   "execution_count": 6,
   "id": "da92fa13-e0bf-479d-b3fa-8bf39c3b3509",
   "metadata": {
    "scrolled": true
   },
   "outputs": [
    {
     "data": {
      "text/html": [
       "<div>\n",
       "<style scoped>\n",
       "    .dataframe tbody tr th:only-of-type {\n",
       "        vertical-align: middle;\n",
       "    }\n",
       "\n",
       "    .dataframe tbody tr th {\n",
       "        vertical-align: top;\n",
       "    }\n",
       "\n",
       "    .dataframe thead th {\n",
       "        text-align: right;\n",
       "    }\n",
       "</style>\n",
       "<table border=\"1\" class=\"dataframe\">\n",
       "  <thead>\n",
       "    <tr style=\"text-align: right;\">\n",
       "      <th></th>\n",
       "      <th>id</th>\n",
       "      <th>title</th>\n",
       "      <th>annotation</th>\n",
       "      <th>content_type</th>\n",
       "      <th>publisher</th>\n",
       "      <th>sequence</th>\n",
       "      <th>sequence_nr</th>\n",
       "      <th>info_sources</th>\n",
       "      <th>publishing_year</th>\n",
       "      <th>nationality</th>\n",
       "      <th>...</th>\n",
       "      <th>created_by_user_id</th>\n",
       "      <th>available_at</th>\n",
       "      <th>media</th>\n",
       "      <th>completed_by_user_id</th>\n",
       "      <th>completed_by</th>\n",
       "      <th>has_only_scans</th>\n",
       "      <th>nb_content_files</th>\n",
       "      <th>verified_count</th>\n",
       "      <th>is_public</th>\n",
       "      <th>atelie_id</th>\n",
       "    </tr>\n",
       "  </thead>\n",
       "  <tbody>\n",
       "    <tr>\n",
       "      <th>0</th>\n",
       "      <td>1</td>\n",
       "      <td>Трима другари</td>\n",
       "      <td>NaN</td>\n",
       "      <td>роман</td>\n",
       "      <td>Издателство на Отечествения фронт</td>\n",
       "      <td>NaN</td>\n",
       "      <td>NaN</td>\n",
       "      <td>Сканове, DjVu: Karel</td>\n",
       "      <td>1984</td>\n",
       "      <td>немска</td>\n",
       "      <td>...</td>\n",
       "      <td>1</td>\n",
       "      <td>NaN</td>\n",
       "      <td>хартия</td>\n",
       "      <td>NaN</td>\n",
       "      <td>NaN</td>\n",
       "      <td>0</td>\n",
       "      <td>1</td>\n",
       "      <td>0</td>\n",
       "      <td>0</td>\n",
       "      <td>23742.0</td>\n",
       "    </tr>\n",
       "    <tr>\n",
       "      <th>1</th>\n",
       "      <td>2</td>\n",
       "      <td>Без дом</td>\n",
       "      <td>NaN</td>\n",
       "      <td>роман</td>\n",
       "      <td>„Народна младеж“ — издателство на ЦК на ДКМС</td>\n",
       "      <td>NaN</td>\n",
       "      <td>NaN</td>\n",
       "      <td>NaN</td>\n",
       "      <td>1988</td>\n",
       "      <td>френска</td>\n",
       "      <td>...</td>\n",
       "      <td>24</td>\n",
       "      <td>NaN</td>\n",
       "      <td>хартия</td>\n",
       "      <td>NaN</td>\n",
       "      <td>NaN</td>\n",
       "      <td>0</td>\n",
       "      <td>0</td>\n",
       "      <td>0</td>\n",
       "      <td>0</td>\n",
       "      <td>NaN</td>\n",
       "    </tr>\n",
       "    <tr>\n",
       "      <th>2</th>\n",
       "      <td>3</td>\n",
       "      <td>Съкровището в сребърното езеро</td>\n",
       "      <td>NaN</td>\n",
       "      <td>роман</td>\n",
       "      <td>ДИ „Отечество“</td>\n",
       "      <td>NaN</td>\n",
       "      <td>NaN</td>\n",
       "      <td>NaN</td>\n",
       "      <td>1984</td>\n",
       "      <td>немска</td>\n",
       "      <td>...</td>\n",
       "      <td>24</td>\n",
       "      <td>NaN</td>\n",
       "      <td>хартия</td>\n",
       "      <td>NaN</td>\n",
       "      <td>NaN</td>\n",
       "      <td>0</td>\n",
       "      <td>0</td>\n",
       "      <td>0</td>\n",
       "      <td>0</td>\n",
       "      <td>NaN</td>\n",
       "    </tr>\n",
       "    <tr>\n",
       "      <th>3</th>\n",
       "      <td>4</td>\n",
       "      <td>Къща от карти</td>\n",
       "      <td>Базиран на личния опит на автора Майкъл Добс -...</td>\n",
       "      <td>роман</td>\n",
       "      <td>Сиела Норма АД</td>\n",
       "      <td>NaN</td>\n",
       "      <td>NaN</td>\n",
       "      <td>NaN</td>\n",
       "      <td>2014</td>\n",
       "      <td>английска</td>\n",
       "      <td>...</td>\n",
       "      <td>24</td>\n",
       "      <td>2021-01-01</td>\n",
       "      <td>хартия</td>\n",
       "      <td>NaN</td>\n",
       "      <td>NaN</td>\n",
       "      <td>0</td>\n",
       "      <td>1</td>\n",
       "      <td>0</td>\n",
       "      <td>0</td>\n",
       "      <td>NaN</td>\n",
       "    </tr>\n",
       "    <tr>\n",
       "      <th>4</th>\n",
       "      <td>5</td>\n",
       "      <td>Летище</td>\n",
       "      <td>Един отчаян от живота човек решава да извърши ...</td>\n",
       "      <td>роман</td>\n",
       "      <td>Георги Бакалов</td>\n",
       "      <td>Библиотека „Галактика“</td>\n",
       "      <td>15.0</td>\n",
       "      <td>NaN</td>\n",
       "      <td>1990</td>\n",
       "      <td>американска</td>\n",
       "      <td>...</td>\n",
       "      <td>24</td>\n",
       "      <td>NaN</td>\n",
       "      <td>хартия</td>\n",
       "      <td>NaN</td>\n",
       "      <td>NaN</td>\n",
       "      <td>0</td>\n",
       "      <td>0</td>\n",
       "      <td>0</td>\n",
       "      <td>0</td>\n",
       "      <td>NaN</td>\n",
       "    </tr>\n",
       "    <tr>\n",
       "      <th>...</th>\n",
       "      <td>...</td>\n",
       "      <td>...</td>\n",
       "      <td>...</td>\n",
       "      <td>...</td>\n",
       "      <td>...</td>\n",
       "      <td>...</td>\n",
       "      <td>...</td>\n",
       "      <td>...</td>\n",
       "      <td>...</td>\n",
       "      <td>...</td>\n",
       "      <td>...</td>\n",
       "      <td>...</td>\n",
       "      <td>...</td>\n",
       "      <td>...</td>\n",
       "      <td>...</td>\n",
       "      <td>...</td>\n",
       "      <td>...</td>\n",
       "      <td>...</td>\n",
       "      <td>...</td>\n",
       "      <td>...</td>\n",
       "      <td>...</td>\n",
       "    </tr>\n",
       "    <tr>\n",
       "      <th>19480</th>\n",
       "      <td>19481</td>\n",
       "      <td>Завръщане в Аляска</td>\n",
       "      <td>Изисква се желязна воля, за да спасиш сам себе...</td>\n",
       "      <td>роман (не е указано)</td>\n",
       "      <td>СББ Медиа АД</td>\n",
       "      <td>Световни бестселъри</td>\n",
       "      <td>NaN</td>\n",
       "      <td>Цената е взета от сайтовете на книжарниците.</td>\n",
       "      <td>2023</td>\n",
       "      <td>американска</td>\n",
       "      <td>...</td>\n",
       "      <td>52</td>\n",
       "      <td>NaN</td>\n",
       "      <td>хартия</td>\n",
       "      <td>NaN</td>\n",
       "      <td>NaN</td>\n",
       "      <td>0</td>\n",
       "      <td>0</td>\n",
       "      <td>0</td>\n",
       "      <td>0</td>\n",
       "      <td>NaN</td>\n",
       "    </tr>\n",
       "    <tr>\n",
       "      <th>19481</th>\n",
       "      <td>19482</td>\n",
       "      <td>Дневникът на госпожица Джоун Мартин</td>\n",
       "      <td>Вирджиния Улф (1882–1941) е призната за една о...</td>\n",
       "      <td>сборник разкази</td>\n",
       "      <td>Издателство „Изток-Запад“</td>\n",
       "      <td>Колекция „Плеяди“</td>\n",
       "      <td>NaN</td>\n",
       "      <td>NaN</td>\n",
       "      <td>2021</td>\n",
       "      <td>британска</td>\n",
       "      <td>...</td>\n",
       "      <td>52</td>\n",
       "      <td>NaN</td>\n",
       "      <td>хартия</td>\n",
       "      <td>NaN</td>\n",
       "      <td>NaN</td>\n",
       "      <td>0</td>\n",
       "      <td>0</td>\n",
       "      <td>0</td>\n",
       "      <td>0</td>\n",
       "      <td>NaN</td>\n",
       "    </tr>\n",
       "    <tr>\n",
       "      <th>19482</th>\n",
       "      <td>19483</td>\n",
       "      <td>Победителят получава всичко</td>\n",
       "      <td>Ивлин Уо (1903–1966), един от големите майстор...</td>\n",
       "      <td>сборник</td>\n",
       "      <td>ФАМА</td>\n",
       "      <td>Класика (ФАМА)</td>\n",
       "      <td>84.0</td>\n",
       "      <td>NaN</td>\n",
       "      <td>2008</td>\n",
       "      <td>английска</td>\n",
       "      <td>...</td>\n",
       "      <td>52</td>\n",
       "      <td>NaN</td>\n",
       "      <td>хартия</td>\n",
       "      <td>NaN</td>\n",
       "      <td>NaN</td>\n",
       "      <td>0</td>\n",
       "      <td>0</td>\n",
       "      <td>0</td>\n",
       "      <td>0</td>\n",
       "      <td>NaN</td>\n",
       "    </tr>\n",
       "    <tr>\n",
       "      <th>19483</th>\n",
       "      <td>19484</td>\n",
       "      <td>Покана за Прованс</td>\n",
       "      <td>Къде ще бъдете, когато любовта идва чукайки на...</td>\n",
       "      <td>роман (не е указано)</td>\n",
       "      <td>ИК „Калпазанов“</td>\n",
       "      <td>Колекция „Елизабет Адлър“</td>\n",
       "      <td>NaN</td>\n",
       "      <td>NaN</td>\n",
       "      <td>2006</td>\n",
       "      <td>английска</td>\n",
       "      <td>...</td>\n",
       "      <td>2150</td>\n",
       "      <td>NaN</td>\n",
       "      <td>хартия</td>\n",
       "      <td>NaN</td>\n",
       "      <td>NaN</td>\n",
       "      <td>0</td>\n",
       "      <td>0</td>\n",
       "      <td>0</td>\n",
       "      <td>0</td>\n",
       "      <td>NaN</td>\n",
       "    </tr>\n",
       "    <tr>\n",
       "      <th>19484</th>\n",
       "      <td>19485</td>\n",
       "      <td>Подобрен</td>\n",
       "      <td>Романът е финалист в наградите на „Гудрийдс“„Т...</td>\n",
       "      <td>роман (не е указано)</td>\n",
       "      <td>Издателство „Ибис“</td>\n",
       "      <td>Съвременни трилъри (Ибис)</td>\n",
       "      <td>NaN</td>\n",
       "      <td>NaN</td>\n",
       "      <td>2023</td>\n",
       "      <td>американска</td>\n",
       "      <td>...</td>\n",
       "      <td>52</td>\n",
       "      <td>NaN</td>\n",
       "      <td>хартия</td>\n",
       "      <td>NaN</td>\n",
       "      <td>NaN</td>\n",
       "      <td>0</td>\n",
       "      <td>0</td>\n",
       "      <td>0</td>\n",
       "      <td>0</td>\n",
       "      <td>23822.0</td>\n",
       "    </tr>\n",
       "  </tbody>\n",
       "</table>\n",
       "<p>19485 rows × 104 columns</p>\n",
       "</div>"
      ],
      "text/plain": [
       "          id                                title  \\\n",
       "0          1                        Трима другари   \n",
       "1          2                              Без дом   \n",
       "2          3       Съкровището в сребърното езеро   \n",
       "3          4                        Къща от карти   \n",
       "4          5                               Летище   \n",
       "...      ...                                  ...   \n",
       "19480  19481                   Завръщане в Аляска   \n",
       "19481  19482  Дневникът на госпожица Джоун Мартин   \n",
       "19482  19483          Победителят получава всичко   \n",
       "19483  19484                    Покана за Прованс   \n",
       "19484  19485                             Подобрен   \n",
       "\n",
       "                                              annotation  \\\n",
       "0                                                    NaN   \n",
       "1                                                    NaN   \n",
       "2                                                    NaN   \n",
       "3      Базиран на личния опит на автора Майкъл Добс -...   \n",
       "4      Един отчаян от живота човек решава да извърши ...   \n",
       "...                                                  ...   \n",
       "19480  Изисква се желязна воля, за да спасиш сам себе...   \n",
       "19481  Вирджиния Улф (1882–1941) е призната за една о...   \n",
       "19482  Ивлин Уо (1903–1966), един от големите майстор...   \n",
       "19483  Къде ще бъдете, когато любовта идва чукайки на...   \n",
       "19484  Романът е финалист в наградите на „Гудрийдс“„Т...   \n",
       "\n",
       "               content_type                                     publisher  \\\n",
       "0                     роман             Издателство на Отечествения фронт   \n",
       "1                     роман  „Народна младеж“ — издателство на ЦК на ДКМС   \n",
       "2                     роман                                ДИ „Отечество“   \n",
       "3                     роман                                Сиела Норма АД   \n",
       "4                     роман                                Георги Бакалов   \n",
       "...                     ...                                           ...   \n",
       "19480  роман (не е указано)                                  СББ Медиа АД   \n",
       "19481       сборник разкази                     Издателство „Изток-Запад“   \n",
       "19482               сборник                                          ФАМА   \n",
       "19483  роман (не е указано)                               ИК „Калпазанов“   \n",
       "19484  роман (не е указано)                            Издателство „Ибис“   \n",
       "\n",
       "                        sequence  sequence_nr  \\\n",
       "0                            NaN          NaN   \n",
       "1                            NaN          NaN   \n",
       "2                            NaN          NaN   \n",
       "3                            NaN          NaN   \n",
       "4         Библиотека „Галактика“         15.0   \n",
       "...                          ...          ...   \n",
       "19480        Световни бестселъри          NaN   \n",
       "19481          Колекция „Плеяди“          NaN   \n",
       "19482             Класика (ФАМА)         84.0   \n",
       "19483  Колекция „Елизабет Адлър“          NaN   \n",
       "19484  Съвременни трилъри (Ибис)          NaN   \n",
       "\n",
       "                                       info_sources publishing_year  \\\n",
       "0                              Сканове, DjVu: Karel            1984   \n",
       "1                                               NaN            1988   \n",
       "2                                               NaN            1984   \n",
       "3                                               NaN            2014   \n",
       "4                                               NaN            1990   \n",
       "...                                             ...             ...   \n",
       "19480  Цената е взета от сайтовете на книжарниците.            2023   \n",
       "19481                                           NaN            2021   \n",
       "19482                                           NaN            2008   \n",
       "19483                                           NaN            2006   \n",
       "19484                                           NaN            2023   \n",
       "\n",
       "       nationality  ... created_by_user_id available_at   media  \\\n",
       "0           немска  ...                  1          NaN  хартия   \n",
       "1          френска  ...                 24          NaN  хартия   \n",
       "2           немска  ...                 24          NaN  хартия   \n",
       "3        английска  ...                 24   2021-01-01  хартия   \n",
       "4      американска  ...                 24          NaN  хартия   \n",
       "...            ...  ...                ...          ...     ...   \n",
       "19480  американска  ...                 52          NaN  хартия   \n",
       "19481    британска  ...                 52          NaN  хартия   \n",
       "19482    английска  ...                 52          NaN  хартия   \n",
       "19483    английска  ...               2150          NaN  хартия   \n",
       "19484  американска  ...                 52          NaN  хартия   \n",
       "\n",
       "      completed_by_user_id  completed_by has_only_scans nb_content_files  \\\n",
       "0                      NaN           NaN              0                1   \n",
       "1                      NaN           NaN              0                0   \n",
       "2                      NaN           NaN              0                0   \n",
       "3                      NaN           NaN              0                1   \n",
       "4                      NaN           NaN              0                0   \n",
       "...                    ...           ...            ...              ...   \n",
       "19480                  NaN           NaN              0                0   \n",
       "19481                  NaN           NaN              0                0   \n",
       "19482                  NaN           NaN              0                0   \n",
       "19483                  NaN           NaN              0                0   \n",
       "19484                  NaN           NaN              0                0   \n",
       "\n",
       "      verified_count  is_public atelie_id  \n",
       "0                  0          0   23742.0  \n",
       "1                  0          0       NaN  \n",
       "2                  0          0       NaN  \n",
       "3                  0          0       NaN  \n",
       "4                  0          0       NaN  \n",
       "...              ...        ...       ...  \n",
       "19480              0          0       NaN  \n",
       "19481              0          0       NaN  \n",
       "19482              0          0       NaN  \n",
       "19483              0          0       NaN  \n",
       "19484              0          0   23822.0  \n",
       "\n",
       "[19485 rows x 104 columns]"
      ]
     },
     "execution_count": 6,
     "metadata": {},
     "output_type": "execute_result"
    }
   ],
   "source": [
    "books_data"
   ]
  },
  {
   "cell_type": "code",
   "execution_count": 7,
   "id": "2f165958-35cb-450f-8409-78216791bd3a",
   "metadata": {},
   "outputs": [
    {
     "data": {
      "text/plain": [
       "(19485, 104)"
      ]
     },
     "execution_count": 7,
     "metadata": {},
     "output_type": "execute_result"
    }
   ],
   "source": [
    "books_data.shape"
   ]
  },
  {
   "cell_type": "markdown",
   "id": "88f52b99-9b37-40ce-8642-e2c714640023",
   "metadata": {},
   "source": [
    "The dataset with the meta information about the books consists of 19485 books with 104 columns. "
   ]
  },
  {
   "cell_type": "code",
   "execution_count": 8,
   "id": "2e110a95-6eab-4993-8a0b-cca9fb63c7a9",
   "metadata": {},
   "outputs": [
    {
     "data": {
      "text/html": [
       "<div>\n",
       "<style scoped>\n",
       "    .dataframe tbody tr th:only-of-type {\n",
       "        vertical-align: middle;\n",
       "    }\n",
       "\n",
       "    .dataframe tbody tr th {\n",
       "        vertical-align: top;\n",
       "    }\n",
       "\n",
       "    .dataframe thead th {\n",
       "        text-align: right;\n",
       "    }\n",
       "</style>\n",
       "<table border=\"1\" class=\"dataframe\">\n",
       "  <thead>\n",
       "    <tr style=\"text-align: right;\">\n",
       "      <th></th>\n",
       "      <th>id</th>\n",
       "      <th>tree_root</th>\n",
       "      <th>parent_id</th>\n",
       "      <th>name</th>\n",
       "      <th>slug</th>\n",
       "      <th>lft</th>\n",
       "      <th>lvl</th>\n",
       "      <th>rgt</th>\n",
       "      <th>nr_of_books</th>\n",
       "    </tr>\n",
       "  </thead>\n",
       "  <tbody>\n",
       "    <tr>\n",
       "      <th>0</th>\n",
       "      <td>1</td>\n",
       "      <td>1</td>\n",
       "      <td>NaN</td>\n",
       "      <td>Наука, технологии, образование</td>\n",
       "      <td>nauka-technologii-obrazovanie</td>\n",
       "      <td>1</td>\n",
       "      <td>0</td>\n",
       "      <td>74</td>\n",
       "      <td>10</td>\n",
       "    </tr>\n",
       "    <tr>\n",
       "      <th>37</th>\n",
       "      <td>38</td>\n",
       "      <td>38</td>\n",
       "      <td>NaN</td>\n",
       "      <td>Общество и култура</td>\n",
       "      <td>obshtestvo-i-cultura</td>\n",
       "      <td>1</td>\n",
       "      <td>0</td>\n",
       "      <td>58</td>\n",
       "      <td>13</td>\n",
       "    </tr>\n",
       "    <tr>\n",
       "      <th>66</th>\n",
       "      <td>67</td>\n",
       "      <td>67</td>\n",
       "      <td>NaN</td>\n",
       "      <td>Художествена литература</td>\n",
       "      <td>hudozhestvena-literatura</td>\n",
       "      <td>1</td>\n",
       "      <td>0</td>\n",
       "      <td>144</td>\n",
       "      <td>131</td>\n",
       "    </tr>\n",
       "  </tbody>\n",
       "</table>\n",
       "</div>"
      ],
      "text/plain": [
       "    id  tree_root  parent_id                            name  \\\n",
       "0    1          1        NaN  Наука, технологии, образование   \n",
       "37  38         38        NaN              Общество и култура   \n",
       "66  67         67        NaN         Художествена литература   \n",
       "\n",
       "                             slug  lft  lvl  rgt  nr_of_books  \n",
       "0   nauka-technologii-obrazovanie    1    0   74           10  \n",
       "37           obshtestvo-i-cultura    1    0   58           13  \n",
       "66       hudozhestvena-literatura    1    0  144          131  "
      ]
     },
     "execution_count": 8,
     "metadata": {},
     "output_type": "execute_result"
    }
   ],
   "source": [
    "books_category[books_category.parent_id.isna()]"
   ]
  },
  {
   "cell_type": "markdown",
   "id": "ce2f5b0a-fb49-4daa-88e1-3873acf046d7",
   "metadata": {},
   "source": [
    "The dataset with the books categories consists of 138! categories with 9 columns. As it looks the category structure has an hierarchy."
   ]
  },
  {
   "cell_type": "code",
   "execution_count": 9,
   "id": "8910b7e3-5a44-4680-997d-77fa50644f8a",
   "metadata": {},
   "outputs": [
    {
     "name": "stdout",
     "output_type": "stream",
     "text": [
      "<class 'pandas.core.frame.DataFrame'>\n",
      "RangeIndex: 138 entries, 0 to 137\n",
      "Data columns (total 9 columns):\n",
      " #   Column       Non-Null Count  Dtype  \n",
      "---  ------       --------------  -----  \n",
      " 0   id           138 non-null    int64  \n",
      " 1   tree_root    138 non-null    int64  \n",
      " 2   parent_id    135 non-null    float64\n",
      " 3   name         138 non-null    object \n",
      " 4   slug         138 non-null    object \n",
      " 5   lft          138 non-null    int64  \n",
      " 6   lvl          138 non-null    int64  \n",
      " 7   rgt          138 non-null    int64  \n",
      " 8   nr_of_books  138 non-null    int64  \n",
      "dtypes: float64(1), int64(6), object(2)\n",
      "memory usage: 9.8+ KB\n"
     ]
    }
   ],
   "source": [
    "books_category.info()"
   ]
  },
  {
   "cell_type": "markdown",
   "id": "7e221a54-e65b-4f11-ab4b-b478e81636ff",
   "metadata": {},
   "source": [
    "We have NaN in `parent_id`. We will add 1000 to the `id` as `parent_id` for all root categories."
   ]
  },
  {
   "cell_type": "code",
   "execution_count": 9,
   "id": "65f6706b-41cb-47a3-9bf2-ef23c1c4ed8e",
   "metadata": {},
   "outputs": [],
   "source": [
    "books_category.parent_id = books_category.parent_id.fillna(books_category.id + 1000)"
   ]
  },
  {
   "cell_type": "code",
   "execution_count": 11,
   "id": "8ce8d7f2-8c99-40a8-86e4-b4494060e5e0",
   "metadata": {},
   "outputs": [
    {
     "data": {
      "text/html": [
       "<div>\n",
       "<style scoped>\n",
       "    .dataframe tbody tr th:only-of-type {\n",
       "        vertical-align: middle;\n",
       "    }\n",
       "\n",
       "    .dataframe tbody tr th {\n",
       "        vertical-align: top;\n",
       "    }\n",
       "\n",
       "    .dataframe thead th {\n",
       "        text-align: right;\n",
       "    }\n",
       "</style>\n",
       "<table border=\"1\" class=\"dataframe\">\n",
       "  <thead>\n",
       "    <tr style=\"text-align: right;\">\n",
       "      <th></th>\n",
       "      <th>id</th>\n",
       "      <th>tree_root</th>\n",
       "      <th>parent_id</th>\n",
       "      <th>name</th>\n",
       "      <th>slug</th>\n",
       "      <th>lft</th>\n",
       "      <th>lvl</th>\n",
       "      <th>rgt</th>\n",
       "      <th>nr_of_books</th>\n",
       "    </tr>\n",
       "  </thead>\n",
       "  <tbody>\n",
       "    <tr>\n",
       "      <th>0</th>\n",
       "      <td>1</td>\n",
       "      <td>1</td>\n",
       "      <td>1001.0</td>\n",
       "      <td>Наука, технологии, образование</td>\n",
       "      <td>nauka-technologii-obrazovanie</td>\n",
       "      <td>1</td>\n",
       "      <td>0</td>\n",
       "      <td>74</td>\n",
       "      <td>10</td>\n",
       "    </tr>\n",
       "    <tr>\n",
       "      <th>1</th>\n",
       "      <td>2</td>\n",
       "      <td>1</td>\n",
       "      <td>1.0</td>\n",
       "      <td>Научнопопулярна литература</td>\n",
       "      <td>nauchno-populjarna-literatura</td>\n",
       "      <td>2</td>\n",
       "      <td>1</td>\n",
       "      <td>3</td>\n",
       "      <td>253</td>\n",
       "    </tr>\n",
       "    <tr>\n",
       "      <th>2</th>\n",
       "      <td>3</td>\n",
       "      <td>1</td>\n",
       "      <td>1.0</td>\n",
       "      <td>Образование</td>\n",
       "      <td>obrazovanie</td>\n",
       "      <td>4</td>\n",
       "      <td>1</td>\n",
       "      <td>11</td>\n",
       "      <td>9</td>\n",
       "    </tr>\n",
       "    <tr>\n",
       "      <th>3</th>\n",
       "      <td>4</td>\n",
       "      <td>1</td>\n",
       "      <td>3.0</td>\n",
       "      <td>Дидактика</td>\n",
       "      <td>didactica</td>\n",
       "      <td>5</td>\n",
       "      <td>2</td>\n",
       "      <td>6</td>\n",
       "      <td>0</td>\n",
       "    </tr>\n",
       "    <tr>\n",
       "      <th>4</th>\n",
       "      <td>5</td>\n",
       "      <td>1</td>\n",
       "      <td>3.0</td>\n",
       "      <td>Педагогика</td>\n",
       "      <td>pedagogika</td>\n",
       "      <td>7</td>\n",
       "      <td>2</td>\n",
       "      <td>8</td>\n",
       "      <td>5</td>\n",
       "    </tr>\n",
       "    <tr>\n",
       "      <th>...</th>\n",
       "      <td>...</td>\n",
       "      <td>...</td>\n",
       "      <td>...</td>\n",
       "      <td>...</td>\n",
       "      <td>...</td>\n",
       "      <td>...</td>\n",
       "      <td>...</td>\n",
       "      <td>...</td>\n",
       "      <td>...</td>\n",
       "    </tr>\n",
       "    <tr>\n",
       "      <th>133</th>\n",
       "      <td>134</td>\n",
       "      <td>67</td>\n",
       "      <td>133.0</td>\n",
       "      <td>Научна фантастика</td>\n",
       "      <td>nauchna-fantastika</td>\n",
       "      <td>133</td>\n",
       "      <td>2</td>\n",
       "      <td>134</td>\n",
       "      <td>918</td>\n",
       "    </tr>\n",
       "    <tr>\n",
       "      <th>134</th>\n",
       "      <td>135</td>\n",
       "      <td>67</td>\n",
       "      <td>133.0</td>\n",
       "      <td>Фентъзи</td>\n",
       "      <td>fantasy</td>\n",
       "      <td>135</td>\n",
       "      <td>2</td>\n",
       "      <td>136</td>\n",
       "      <td>1352</td>\n",
       "    </tr>\n",
       "    <tr>\n",
       "      <th>135</th>\n",
       "      <td>136</td>\n",
       "      <td>67</td>\n",
       "      <td>133.0</td>\n",
       "      <td>Хорър</td>\n",
       "      <td>horror</td>\n",
       "      <td>137</td>\n",
       "      <td>2</td>\n",
       "      <td>138</td>\n",
       "      <td>217</td>\n",
       "    </tr>\n",
       "    <tr>\n",
       "      <th>136</th>\n",
       "      <td>137</td>\n",
       "      <td>67</td>\n",
       "      <td>67.0</td>\n",
       "      <td>Фолклор</td>\n",
       "      <td>folclor</td>\n",
       "      <td>140</td>\n",
       "      <td>1</td>\n",
       "      <td>141</td>\n",
       "      <td>15</td>\n",
       "    </tr>\n",
       "    <tr>\n",
       "      <th>137</th>\n",
       "      <td>138</td>\n",
       "      <td>67</td>\n",
       "      <td>67.0</td>\n",
       "      <td>Хумор и сатира</td>\n",
       "      <td>humor-i-satira</td>\n",
       "      <td>142</td>\n",
       "      <td>1</td>\n",
       "      <td>143</td>\n",
       "      <td>170</td>\n",
       "    </tr>\n",
       "  </tbody>\n",
       "</table>\n",
       "<p>138 rows × 9 columns</p>\n",
       "</div>"
      ],
      "text/plain": [
       "      id  tree_root  parent_id                            name  \\\n",
       "0      1          1     1001.0  Наука, технологии, образование   \n",
       "1      2          1        1.0      Научнопопулярна литература   \n",
       "2      3          1        1.0                     Образование   \n",
       "3      4          1        3.0                       Дидактика   \n",
       "4      5          1        3.0                      Педагогика   \n",
       "..   ...        ...        ...                             ...   \n",
       "133  134         67      133.0               Научна фантастика   \n",
       "134  135         67      133.0                         Фентъзи   \n",
       "135  136         67      133.0                           Хорър   \n",
       "136  137         67       67.0                         Фолклор   \n",
       "137  138         67       67.0                  Хумор и сатира   \n",
       "\n",
       "                              slug  lft  lvl  rgt  nr_of_books  \n",
       "0    nauka-technologii-obrazovanie    1    0   74           10  \n",
       "1    nauchno-populjarna-literatura    2    1    3          253  \n",
       "2                      obrazovanie    4    1   11            9  \n",
       "3                        didactica    5    2    6            0  \n",
       "4                       pedagogika    7    2    8            5  \n",
       "..                             ...  ...  ...  ...          ...  \n",
       "133             nauchna-fantastika  133    2  134          918  \n",
       "134                        fantasy  135    2  136         1352  \n",
       "135                         horror  137    2  138          217  \n",
       "136                        folclor  140    1  141           15  \n",
       "137                 humor-i-satira  142    1  143          170  \n",
       "\n",
       "[138 rows x 9 columns]"
      ]
     },
     "execution_count": 11,
     "metadata": {},
     "output_type": "execute_result"
    }
   ],
   "source": [
    "books_category"
   ]
  },
  {
   "cell_type": "code",
   "execution_count": 12,
   "id": "880467aa-75c6-4e77-ba42-afa53f2d5884",
   "metadata": {},
   "outputs": [
    {
     "data": {
      "text/html": [
       "<div>\n",
       "<style scoped>\n",
       "    .dataframe tbody tr th:only-of-type {\n",
       "        vertical-align: middle;\n",
       "    }\n",
       "\n",
       "    .dataframe tbody tr th {\n",
       "        vertical-align: top;\n",
       "    }\n",
       "\n",
       "    .dataframe thead th {\n",
       "        text-align: right;\n",
       "    }\n",
       "</style>\n",
       "<table border=\"1\" class=\"dataframe\">\n",
       "  <thead>\n",
       "    <tr style=\"text-align: right;\">\n",
       "      <th></th>\n",
       "      <th>id</th>\n",
       "      <th>tree_root</th>\n",
       "      <th>parent_id</th>\n",
       "      <th>name</th>\n",
       "      <th>slug</th>\n",
       "      <th>lft</th>\n",
       "      <th>lvl</th>\n",
       "      <th>rgt</th>\n",
       "      <th>nr_of_books</th>\n",
       "    </tr>\n",
       "  </thead>\n",
       "  <tbody>\n",
       "  </tbody>\n",
       "</table>\n",
       "</div>"
      ],
      "text/plain": [
       "Empty DataFrame\n",
       "Columns: [id, tree_root, parent_id, name, slug, lft, lvl, rgt, nr_of_books]\n",
       "Index: []"
      ]
     },
     "execution_count": 12,
     "metadata": {},
     "output_type": "execute_result"
    }
   ],
   "source": [
    "books_category[books_category.parent_id.isna()]"
   ]
  },
  {
   "cell_type": "markdown",
   "id": "d0f1acfe-b3dd-4b7a-a224-bf17200d17e4",
   "metadata": {},
   "source": [
    "## **2. Data exploration**"
   ]
  },
  {
   "cell_type": "markdown",
   "id": "894cfa0c-6140-4324-ad99-67fb4f13f1b2",
   "metadata": {},
   "source": [
    "### **2.1. Books dataset**\n",
    "Let's see the columns of the books dataset"
   ]
  },
  {
   "cell_type": "code",
   "execution_count": 13,
   "id": "55795c7f-63db-431d-a529-4a456e1255b0",
   "metadata": {
    "scrolled": true
   },
   "outputs": [
    {
     "name": "stdout",
     "output_type": "stream",
     "text": [
      "<class 'pandas.core.frame.DataFrame'>\n",
      "RangeIndex: 19485 entries, 0 to 19484\n",
      "Data columns (total 104 columns):\n",
      " #    Column                            Dtype  \n",
      "---   ------                            -----  \n",
      " 0    id                                int64  \n",
      " 1    title                             object \n",
      " 2    annotation                        object \n",
      " 3    content_type                      object \n",
      " 4    publisher                         object \n",
      " 5    sequence                          object \n",
      " 6    sequence_nr                       float64\n",
      " 7    info_sources                      object \n",
      " 8    publishing_year                   object \n",
      " 9    nationality                       object \n",
      " 10   edition                           object \n",
      " 11   printing_house                    object \n",
      " 12   printer_sheets                    object \n",
      " 13   format                            object \n",
      " 14   page_count                        float64\n",
      " 15   price                             object \n",
      " 16   binding                           object \n",
      " 17   language                          object \n",
      " 18   illustrated                       int64  \n",
      " 19   notes                             object \n",
      " 20   themes                            object \n",
      " 21   genre                             object \n",
      " 22   publisher_city                    object \n",
      " 23   author                            object \n",
      " 24   translator                        object \n",
      " 25   editor                            object \n",
      " 26   publisher_editor                  object \n",
      " 27   artist_editor                     object \n",
      " 28   technical_editor                  object \n",
      " 29   artist                            object \n",
      " 30   corrector                         object \n",
      " 31   type_setting_in                   object \n",
      " 32   print_signed                      object \n",
      " 33   print_out                         object \n",
      " 34   publisher_sheets                  object \n",
      " 35   provision_publisher_sheets        object \n",
      " 36   publisher_code                    object \n",
      " 37   publisher_order                   object \n",
      " 38   cover                             object \n",
      " 39   created_at                        object \n",
      " 40   updated_at                        object \n",
      " 41   created_by                        object \n",
      " 42   back_cover                        object \n",
      " 43   toc                               object \n",
      " 44   translated_from_language          object \n",
      " 45   total_print                       object \n",
      " 46   lit_group                         object \n",
      " 47   tracking_code                     object \n",
      " 48   notes_about_original              object \n",
      " 49   date_of_translation               object \n",
      " 50   subtitle                          object \n",
      " 51   compiler                          object \n",
      " 52   managing_editor                   object \n",
      " 53   editorial_staff                   object \n",
      " 54   consultant                        object \n",
      " 55   reviewer                          object \n",
      " 56   layout                            object \n",
      " 57   cover_layout                      object \n",
      " 58   computer_processing               object \n",
      " 59   prepress                          object \n",
      " 60   uniform_product_classification    object \n",
      " 61   marketing_snippets                object \n",
      " 62   publisher_number                  object \n",
      " 63   publisher_address                 object \n",
      " 64   nb_scans                          float64\n",
      " 65   is_incomplete                     int64  \n",
      " 66   locked_at                         object \n",
      " 67   locked_by                         object \n",
      " 68   reason_why_incomplete             object \n",
      " 69   category_id                       float64\n",
      " 70   subtitle2                         object \n",
      " 71   other_authors                     object \n",
      " 72   admin_comment                     object \n",
      " 73   volume_title                      object \n",
      " 74   ocred_text                        object \n",
      " 75   universal_decimal_classification  object \n",
      " 76   alt_title                         object \n",
      " 77   illustrator                       object \n",
      " 78   isbn                              object \n",
      " 79   isbn_clean                        object \n",
      " 80   library_design                    object \n",
      " 81   subsequence_nr                    float64\n",
      " 82   science_editor                    object \n",
      " 83   copyreader                        object \n",
      " 84   adapted_by                        object \n",
      " 85   full_content                      object \n",
      " 86   other_fields                      object \n",
      " 87   subsequence                       object \n",
      " 88   notes_about_author                object \n",
      " 89   nb_covers                         int64  \n",
      " 90   chief_editor                      object \n",
      " 91   series                            object \n",
      " 92   series_nr                         object \n",
      " 93   chitanka_id                       float64\n",
      " 94   created_by_user_id                int64  \n",
      " 95   available_at                      object \n",
      " 96   media                             object \n",
      " 97   completed_by_user_id              float64\n",
      " 98   completed_by                      object \n",
      " 99   has_only_scans                    int64  \n",
      " 100  nb_content_files                  int64  \n",
      " 101  verified_count                    int64  \n",
      " 102  is_public                         int64  \n",
      " 103  atelie_id                         float64\n",
      "dtypes: float64(8), int64(9), object(87)\n",
      "memory usage: 15.5+ MB\n"
     ]
    }
   ],
   "source": [
    "books_data.info(verbose=True)"
   ]
  },
  {
   "cell_type": "markdown",
   "id": "8ef131bf-4e02-4da2-9281-7870f55b041b",
   "metadata": {},
   "source": [
    "- We can see that some columns consist with information about the contents of the book (such as 'title', 'subtitle', 'author', 'annotation', 'content_type', 'publisher', 'sequence', 'sequence_nr', 'format', 'page_count', 'artist', 'cover', 'back_cover', 'corrector', etc. ).\n",
    "\n",
    "- Some are related with the activity of biblioman users (such as 'created_at', 'updated_at', 'created_by', 'created_at', 'updated_at', 'notes_about_original', 'is_incomplete', 'locked_at', 'locked_by', 'reason_why_incomplete', 'category_id', 'admin_comment', 'ocred_text', 'created_by_user_id', 'available_at', 'media', 'completed_by_user_id', 'completed_by', 'has_only_scans', 'nb_content_files', 'verified_count', 'is_public', 'atelie_id' ).There is a lot of missing information in some columns and a lot of columns with administrative information specific to the biblioman platform."
   ]
  },
  {
   "cell_type": "markdown",
   "id": "6f8a6595-7ec6-4be1-8018-17b7ef68a7f6",
   "metadata": {},
   "source": [
    "Most of the columns (87) contain text. Only 17 are numbers. It looks like we will have to make a significant preprocessing before we begin modeling."
   ]
  },
  {
   "cell_type": "markdown",
   "id": "8ec85913-f542-4272-a8c6-05a1f5498d79",
   "metadata": {},
   "source": [
    "### **2.2. Target variable (category_id)**"
   ]
  },
  {
   "cell_type": "markdown",
   "id": "371ae441-90a7-4aa9-95cf-f0b86c4fdac4",
   "metadata": {},
   "source": [
    "#### **Distribution**"
   ]
  },
  {
   "cell_type": "code",
   "execution_count": 14,
   "id": "1460fc8b-7cbe-4bf0-a72e-054602aa8d37",
   "metadata": {},
   "outputs": [
    {
     "data": {
      "image/png": "[encoded data removed]",
      "text/plain": [
       "<Figure size 2400x1200 with 1 Axes>"
      ]
     },
     "metadata": {},
     "output_type": "display_data"
    }
   ],
   "source": [
    "import matplotlib.pyplot as plt\n",
    "plt.figure(figsize=(24,12))\n",
    "plt.hist(books_data.category_id, bins=40)\n",
    "plt.title(\"Books distribution by category_id\")\n",
    "plt.xlabel(\"Category ID\")\n",
    "plt.ylabel(\"Number of books\")\n",
    "plt.xlim(1)\n",
    "plt.show()\n",
    "\n",
    "#'auto', 'fd', 'doane', 'scott', 'stone', 'rice', 'sturges', or 'sqrt'"
   ]
  },
  {
   "cell_type": "markdown",
   "id": "909aa9a9-9727-4ea3-a55d-3d7323f46ac9",
   "metadata": {},
   "source": [
    "As we can see the distribution of the classes (category_id) is imbalanced. We have to keep in mind that in the training phase."
   ]
  },
  {
   "cell_type": "markdown",
   "id": "96c7f6fb-92e6-49ec-b8d7-d04c11e42cab",
   "metadata": {},
   "source": [
    "#### **Empty categories**"
   ]
  },
  {
   "cell_type": "markdown",
   "id": "7710f58a-6aa5-4407-9993-d72dac8a1229",
   "metadata": {},
   "source": [
    "These are the categories (classes) without any book."
   ]
  },
  {
   "cell_type": "code",
   "execution_count": 15,
   "id": "312c59c6-1183-4ba0-9023-dd01d5b67e97",
   "metadata": {},
   "outputs": [
    {
     "data": {
      "text/html": [
       "<div>\n",
       "<style scoped>\n",
       "    .dataframe tbody tr th:only-of-type {\n",
       "        vertical-align: middle;\n",
       "    }\n",
       "\n",
       "    .dataframe tbody tr th {\n",
       "        vertical-align: top;\n",
       "    }\n",
       "\n",
       "    .dataframe thead th {\n",
       "        text-align: right;\n",
       "    }\n",
       "</style>\n",
       "<table border=\"1\" class=\"dataframe\">\n",
       "  <thead>\n",
       "    <tr style=\"text-align: right;\">\n",
       "      <th></th>\n",
       "      <th>id</th>\n",
       "      <th>tree_root</th>\n",
       "      <th>parent_id</th>\n",
       "      <th>name</th>\n",
       "      <th>slug</th>\n",
       "      <th>lft</th>\n",
       "      <th>lvl</th>\n",
       "      <th>rgt</th>\n",
       "      <th>nr_of_books</th>\n",
       "    </tr>\n",
       "  </thead>\n",
       "  <tbody>\n",
       "    <tr>\n",
       "      <th>3</th>\n",
       "      <td>4</td>\n",
       "      <td>1</td>\n",
       "      <td>3.0</td>\n",
       "      <td>Дидактика</td>\n",
       "      <td>didactica</td>\n",
       "      <td>5</td>\n",
       "      <td>2</td>\n",
       "      <td>6</td>\n",
       "      <td>0</td>\n",
       "    </tr>\n",
       "    <tr>\n",
       "      <th>10</th>\n",
       "      <td>11</td>\n",
       "      <td>1</td>\n",
       "      <td>7.0</td>\n",
       "      <td>Екология</td>\n",
       "      <td>ekologia</td>\n",
       "      <td>19</td>\n",
       "      <td>2</td>\n",
       "      <td>20</td>\n",
       "      <td>0</td>\n",
       "    </tr>\n",
       "    <tr>\n",
       "      <th>22</th>\n",
       "      <td>23</td>\n",
       "      <td>1</td>\n",
       "      <td>22.0</td>\n",
       "      <td>Високи технологии</td>\n",
       "      <td>visoki-technologii</td>\n",
       "      <td>43</td>\n",
       "      <td>2</td>\n",
       "      <td>44</td>\n",
       "      <td>0</td>\n",
       "    </tr>\n",
       "    <tr>\n",
       "      <th>58</th>\n",
       "      <td>59</td>\n",
       "      <td>38</td>\n",
       "      <td>57.0</td>\n",
       "      <td>Култура</td>\n",
       "      <td>kultura</td>\n",
       "      <td>41</td>\n",
       "      <td>2</td>\n",
       "      <td>42</td>\n",
       "      <td>0</td>\n",
       "    </tr>\n",
       "    <tr>\n",
       "      <th>103</th>\n",
       "      <td>104</td>\n",
       "      <td>67</td>\n",
       "      <td>99.0</td>\n",
       "      <td>Сценарии</td>\n",
       "      <td>scenarii</td>\n",
       "      <td>73</td>\n",
       "      <td>2</td>\n",
       "      <td>74</td>\n",
       "      <td>0</td>\n",
       "    </tr>\n",
       "    <tr>\n",
       "      <th>123</th>\n",
       "      <td>124</td>\n",
       "      <td>67</td>\n",
       "      <td>122.0</td>\n",
       "      <td>Репортажи</td>\n",
       "      <td>reportazhi</td>\n",
       "      <td>113</td>\n",
       "      <td>2</td>\n",
       "      <td>114</td>\n",
       "      <td>0</td>\n",
       "    </tr>\n",
       "  </tbody>\n",
       "</table>\n",
       "</div>"
      ],
      "text/plain": [
       "      id  tree_root  parent_id               name                slug  lft  \\\n",
       "3      4          1        3.0          Дидактика           didactica    5   \n",
       "10    11          1        7.0           Екология            ekologia   19   \n",
       "22    23          1       22.0  Високи технологии  visoki-technologii   43   \n",
       "58    59         38       57.0            Култура             kultura   41   \n",
       "103  104         67       99.0           Сценарии            scenarii   73   \n",
       "123  124         67      122.0          Репортажи          reportazhi  113   \n",
       "\n",
       "     lvl  rgt  nr_of_books  \n",
       "3      2    6            0  \n",
       "10     2   20            0  \n",
       "22     2   44            0  \n",
       "58     2   42            0  \n",
       "103    2   74            0  \n",
       "123    2  114            0  "
      ]
     },
     "execution_count": 15,
     "metadata": {},
     "output_type": "execute_result"
    }
   ],
   "source": [
    "books_category[books_category.nr_of_books == 0]"
   ]
  },
  {
   "cell_type": "markdown",
   "id": "a8aee711-5550-4a03-94bb-0461c5f1d1f8",
   "metadata": {},
   "source": [
    "### **2.3. Categories structure**"
   ]
  },
  {
   "cell_type": "markdown",
   "id": "5643a370-42c8-4b24-b9f9-330c00ec2011",
   "metadata": {},
   "source": [
    "As we saw in the data aquisition preview, categories in the dataset have hierarchical structure. This could be usefull in the training optimisation process."
   ]
  },
  {
   "cell_type": "code",
   "execution_count": 16,
   "id": "1838664d-7bb8-4d5d-beb4-7b5d65924881",
   "metadata": {},
   "outputs": [
    {
     "data": {
      "text/plain": [
       "lvl\n",
       "0      3\n",
       "1     29\n",
       "2    106\n",
       "dtype: int64"
      ]
     },
     "execution_count": 16,
     "metadata": {},
     "output_type": "execute_result"
    }
   ],
   "source": [
    "books_category.groupby(\"lvl\").size()"
   ]
  },
  {
   "cell_type": "markdown",
   "id": "e4dc8d05-3c47-453f-919d-f6c4eb53c42e",
   "metadata": {},
   "source": [
    "We have 3 root categories in level 0, 29 in the first level and 106 in level 2."
   ]
  },
  {
   "cell_type": "markdown",
   "id": "38bdadd2-2560-4d1a-8aad-be3df2638b15",
   "metadata": {},
   "source": [
    "## **3. Features selection**"
   ]
  },
  {
   "cell_type": "markdown",
   "id": "7205b989-e7a9-423d-a2b5-e9a32f7068bf",
   "metadata": {},
   "source": [
    "### **3.1. Dealing with the entropy**"
   ]
  },
  {
   "cell_type": "markdown",
   "id": "464d6a32-17f8-40d0-9444-99f960dfce14",
   "metadata": {},
   "source": [
    "At first glance and counting on the domain knowledge we can identify some of the most distinctive features of a book as - Title, Author, Annotation, Content type, Number of pages, Publisher, Translator, Chitanka category_id. All the administrative information about the biblioman users will be ignored. All time related information is misleading too because of the nature of book publishing - one book can be published more than once in different periods of time.\n",
    "\n",
    "But how not to get lost in this abundance of possible features?\n",
    "\n",
    "Let's see some statistics about the columns in the dataset. We will use the columns entropy and their missing information proportion as metrics below:\n"
   ]
  },
  {
   "cell_type": "markdown",
   "id": "59a6c098-ec59-4d49-b168-7b7efabe702e",
   "metadata": {},
   "source": [
    "> We will use this expression for describing the entropy:"
   ]
  },
  {
   "cell_type": "markdown",
   "id": "55ccbbd2-131d-41d5-9f22-4b2b742bc7f3",
   "metadata": {},
   "source": [
    "$H(X) = - \\sum P(x_i) \\cdot \\log_2(P(x_i))$\n",
    "\n",
    "Where:\n",
    "- $H(X)$ is the entropy of the random variable $(X)$.\n",
    "- $P(x_i)$ is the probability of the i-th unique value occurring in the dataset."
   ]
  },
  {
   "cell_type": "code",
   "execution_count": 17,
   "id": "788b23a5-6e75-4b8f-af6b-66122524830b",
   "metadata": {},
   "outputs": [],
   "source": [
    "# Function to calculate entropy\n",
    "def calculate_entropy(column):\n",
    "    column_filled = column.fillna('Missing')\n",
    "    frequencies = column_filled.value_counts()\n",
    "    probabilities = frequencies / len(column_filled)\n",
    "    # entropy = -np.sum(probabilities * np.log2(probabilities))\n",
    "    entropy = -np.sum(probabilities * np.log2(probabilities))\n",
    "    return entropy\n",
    "\n",
    "# List for storing data\n",
    "features_list = []\n",
    "\n",
    "for col in books_data:\n",
    "    entropy = calculate_entropy(books_data[col])\n",
    "    missing_prop = books_data[col].isnull().mean()\n",
    "    features_list.append({'Column': col, 'Entropy': entropy, 'Missing Value Proportion': missing_prop})"
   ]
  },
  {
   "cell_type": "code",
   "execution_count": 18,
   "id": "7e042525-7f22-4132-8295-efe2d4d341cb",
   "metadata": {},
   "outputs": [],
   "source": [
    "# Convert list of dictionaries to DataFrame\n",
    "features_list = pd.DataFrame(features_list)"
   ]
  },
  {
   "cell_type": "code",
   "execution_count": 19,
   "id": "46cac916-9f3f-4b60-8906-67aa24c7fcd3",
   "metadata": {},
   "outputs": [
    {
     "data": {
      "text/html": [
       "<div>\n",
       "<style scoped>\n",
       "    .dataframe tbody tr th:only-of-type {\n",
       "        vertical-align: middle;\n",
       "    }\n",
       "\n",
       "    .dataframe tbody tr th {\n",
       "        vertical-align: top;\n",
       "    }\n",
       "\n",
       "    .dataframe thead th {\n",
       "        text-align: right;\n",
       "    }\n",
       "</style>\n",
       "<table border=\"1\" class=\"dataframe\">\n",
       "  <thead>\n",
       "    <tr style=\"text-align: right;\">\n",
       "      <th></th>\n",
       "      <th>Column</th>\n",
       "      <th>Entropy</th>\n",
       "      <th>Missing Value Proportion</th>\n",
       "    </tr>\n",
       "  </thead>\n",
       "  <tbody>\n",
       "    <tr>\n",
       "      <th>0</th>\n",
       "      <td>id</td>\n",
       "      <td>14.250076</td>\n",
       "      <td>0.000000</td>\n",
       "    </tr>\n",
       "    <tr>\n",
       "      <th>40</th>\n",
       "      <td>updated_at</td>\n",
       "      <td>14.249974</td>\n",
       "      <td>0.000000</td>\n",
       "    </tr>\n",
       "    <tr>\n",
       "      <th>39</th>\n",
       "      <td>created_at</td>\n",
       "      <td>14.249871</td>\n",
       "      <td>0.000000</td>\n",
       "    </tr>\n",
       "    <tr>\n",
       "      <th>38</th>\n",
       "      <td>cover</td>\n",
       "      <td>14.249480</td>\n",
       "      <td>0.000257</td>\n",
       "    </tr>\n",
       "    <tr>\n",
       "      <th>1</th>\n",
       "      <td>title</td>\n",
       "      <td>13.857328</td>\n",
       "      <td>0.000000</td>\n",
       "    </tr>\n",
       "    <tr>\n",
       "      <th>42</th>\n",
       "      <td>back_cover</td>\n",
       "      <td>13.642843</td>\n",
       "      <td>0.059636</td>\n",
       "    </tr>\n",
       "    <tr>\n",
       "      <th>23</th>\n",
       "      <td>author</td>\n",
       "      <td>11.900600</td>\n",
       "      <td>0.011188</td>\n",
       "    </tr>\n",
       "    <tr>\n",
       "      <th>15</th>\n",
       "      <td>price</td>\n",
       "      <td>9.299578</td>\n",
       "      <td>0.088324</td>\n",
       "    </tr>\n",
       "    <tr>\n",
       "      <th>4</th>\n",
       "      <td>publisher</td>\n",
       "      <td>8.470699</td>\n",
       "      <td>0.003952</td>\n",
       "    </tr>\n",
       "    <tr>\n",
       "      <th>14</th>\n",
       "      <td>page_count</td>\n",
       "      <td>6.985041</td>\n",
       "      <td>0.062304</td>\n",
       "    </tr>\n",
       "    <tr>\n",
       "      <th>8</th>\n",
       "      <td>publishing_year</td>\n",
       "      <td>6.133715</td>\n",
       "      <td>0.001694</td>\n",
       "    </tr>\n",
       "    <tr>\n",
       "      <th>69</th>\n",
       "      <td>category_id</td>\n",
       "      <td>5.204080</td>\n",
       "      <td>0.022838</td>\n",
       "    </tr>\n",
       "    <tr>\n",
       "      <th>3</th>\n",
       "      <td>content_type</td>\n",
       "      <td>3.990525</td>\n",
       "      <td>0.085091</td>\n",
       "    </tr>\n",
       "    <tr>\n",
       "      <th>64</th>\n",
       "      <td>nb_scans</td>\n",
       "      <td>3.877985</td>\n",
       "      <td>0.020631</td>\n",
       "    </tr>\n",
       "    <tr>\n",
       "      <th>94</th>\n",
       "      <td>created_by_user_id</td>\n",
       "      <td>3.371478</td>\n",
       "      <td>0.000000</td>\n",
       "    </tr>\n",
       "    <tr>\n",
       "      <th>41</th>\n",
       "      <td>created_by</td>\n",
       "      <td>3.370832</td>\n",
       "      <td>0.000000</td>\n",
       "    </tr>\n",
       "    <tr>\n",
       "      <th>89</th>\n",
       "      <td>nb_covers</td>\n",
       "      <td>1.554282</td>\n",
       "      <td>0.000000</td>\n",
       "    </tr>\n",
       "    <tr>\n",
       "      <th>16</th>\n",
       "      <td>binding</td>\n",
       "      <td>1.499597</td>\n",
       "      <td>0.056967</td>\n",
       "    </tr>\n",
       "    <tr>\n",
       "      <th>22</th>\n",
       "      <td>publisher_city</td>\n",
       "      <td>1.287101</td>\n",
       "      <td>0.060559</td>\n",
       "    </tr>\n",
       "    <tr>\n",
       "      <th>100</th>\n",
       "      <td>nb_content_files</td>\n",
       "      <td>0.651209</td>\n",
       "      <td>0.000000</td>\n",
       "    </tr>\n",
       "    <tr>\n",
       "      <th>18</th>\n",
       "      <td>illustrated</td>\n",
       "      <td>0.646615</td>\n",
       "      <td>0.000000</td>\n",
       "    </tr>\n",
       "    <tr>\n",
       "      <th>65</th>\n",
       "      <td>is_incomplete</td>\n",
       "      <td>0.302263</td>\n",
       "      <td>0.000000</td>\n",
       "    </tr>\n",
       "    <tr>\n",
       "      <th>101</th>\n",
       "      <td>verified_count</td>\n",
       "      <td>0.205212</td>\n",
       "      <td>0.000000</td>\n",
       "    </tr>\n",
       "    <tr>\n",
       "      <th>96</th>\n",
       "      <td>media</td>\n",
       "      <td>0.203100</td>\n",
       "      <td>0.000000</td>\n",
       "    </tr>\n",
       "    <tr>\n",
       "      <th>17</th>\n",
       "      <td>language</td>\n",
       "      <td>0.123098</td>\n",
       "      <td>0.000308</td>\n",
       "    </tr>\n",
       "    <tr>\n",
       "      <th>102</th>\n",
       "      <td>is_public</td>\n",
       "      <td>0.051050</td>\n",
       "      <td>0.000000</td>\n",
       "    </tr>\n",
       "    <tr>\n",
       "      <th>99</th>\n",
       "      <td>has_only_scans</td>\n",
       "      <td>-0.000000</td>\n",
       "      <td>0.000000</td>\n",
       "    </tr>\n",
       "  </tbody>\n",
       "</table>\n",
       "</div>"
      ],
      "text/plain": [
       "                 Column    Entropy  Missing Value Proportion\n",
       "0                    id  14.250076                  0.000000\n",
       "40           updated_at  14.249974                  0.000000\n",
       "39           created_at  14.249871                  0.000000\n",
       "38                cover  14.249480                  0.000257\n",
       "1                 title  13.857328                  0.000000\n",
       "42           back_cover  13.642843                  0.059636\n",
       "23               author  11.900600                  0.011188\n",
       "15                price   9.299578                  0.088324\n",
       "4             publisher   8.470699                  0.003952\n",
       "14           page_count   6.985041                  0.062304\n",
       "8       publishing_year   6.133715                  0.001694\n",
       "69          category_id   5.204080                  0.022838\n",
       "3          content_type   3.990525                  0.085091\n",
       "64             nb_scans   3.877985                  0.020631\n",
       "94   created_by_user_id   3.371478                  0.000000\n",
       "41           created_by   3.370832                  0.000000\n",
       "89            nb_covers   1.554282                  0.000000\n",
       "16              binding   1.499597                  0.056967\n",
       "22       publisher_city   1.287101                  0.060559\n",
       "100    nb_content_files   0.651209                  0.000000\n",
       "18          illustrated   0.646615                  0.000000\n",
       "65        is_incomplete   0.302263                  0.000000\n",
       "101      verified_count   0.205212                  0.000000\n",
       "96                media   0.203100                  0.000000\n",
       "17             language   0.123098                  0.000308\n",
       "102           is_public   0.051050                  0.000000\n",
       "99       has_only_scans  -0.000000                  0.000000"
      ]
     },
     "execution_count": 19,
     "metadata": {},
     "output_type": "execute_result"
    }
   ],
   "source": [
    "# Sort the DataFrame by 'Entropy' in descending order and 'Missing Value Proportion' in descending order\n",
    "features_list_sorted = features_list.sort_values(by=[\"Entropy\", \"Missing Value Proportion\"], ascending=[False, False])\n",
    "\n",
    "# Filter the rows where 'Missing Value Proportion' is less than 0.3\n",
    "features_list_sorted[features_list_sorted[\"Missing Value Proportion\"] < 0.1]\n"
   ]
  },
  {
   "cell_type": "markdown",
   "id": "170f3491-0b28-44e9-b1f7-8f05e594754a",
   "metadata": {},
   "source": [
    "The table above shows some pretty good results. The bigger the Entropy the more diverse is the information in the column. The smaller the Missing Value Proportion, the fewer records with missing values there are in the column. \n",
    "\n",
    "Let's apply some domain knowledge and analyse the results:"
   ]
  },
  {
   "cell_type": "markdown",
   "id": "2f1338e4-17f4-4a57-bead-c672066fc522",
   "metadata": {},
   "source": [
    "- `id` - As expected with biggest diversity and smallest missing values (after all this is a unique key in the dtabase), but with no real information value.\n",
    "- `updated_at`, `created_at` - Fields related to the biblioman user activity\n",
    "- `cover`, `back_cover` - Contains the filename of the book covers as are uploaded to biblioman, not an information we could use to predict the book `category_id`\n",
    "- `title`, `author`, `annotation` - Features that might have significant influence, after all one author usually is known about it's romans or novels or poems. The title and the annotation can contain specific keywords that can direct the classifier to the correct class.\n",
    "- `notes_about_original` - Duplicates the title and author but in the original language of the book\n",
    "- `price` - There is a significant problem about using the price as classification feature. Prices are from different time periods and there has been currency denomination not long in the past. \n",
    "- `translator` - Usually tranlators specialize in specific literature and/or authors. This column could be usefull for `category_id` classification\n",
    "- `isbn`, `isbn_clean`, `universal_decimal_classification` - Another unique identifiers as the `id`. \n",
    "- `editor` - Book editors can work for publishing houses, literary agencies, or as freelancers. Some editors specialize in specific genres or subjects, while others have a broader range of expertise.\n",
    "- `publisher` - Publishers often select specific genre or book categories, such as book series or authors.\n",
    "- `printing_house` - This is related with the technical process of printing the book, making the book binding. One printing house can print very diverse type of literature.\n",
    "- `corrector` - A technical job in the publishing business related with identifying and correction in the text.\n",
    "- `page_count` - Specifies the number of the pages of a book. Can relate to the book category `category_id`.\n",
    "- `genre` - Can relate to the book category, but with a lot of missing values. In a manner this duplicates the content_type field.\n",
    "- `publishing_year` - One  book originating from 19-th or from 21-st century can be published in the same year.\n",
    "- `printer_sheets`, `format` - The number of the printing sheets used to print the book according to the chosen format. One book from the same `category_id` can be in different formats.\n",
    "- `artist` - This is the artist that designed the book cover. There are a lot of missing records, and may be misleading \n",
    "- `publisher_address` - Geographical address of the publisher. Duplicated the information in publisher and doesn't add additional information value\n",
    "- `category_id` - This is the target variable!\n",
    "- `date_of_translation` - Another date that can have different importance in similar cases because it depends of the business decision when a book to be translataed in Bulgarian.\n",
    "- `nationality`, `translated_from_language` - Could be usefull but it is not very clear. Books from one nationality/language can be the same `category_id` and vice versa.\n",
    "- `content_type` - User annotation about the type of the book. Can be a novel, a collection of short stories, an anthology, a collection of poems etc.\n",
    "- `nb_scans`, `created_by_user_id`, `created_by` - Administrative fields related to the biblioman user activity"
   ]
  },
  {
   "cell_type": "markdown",
   "id": "9eb538b3-64f8-4bc4-8e0e-0852a40c063e",
   "metadata": {},
   "source": [
    "Let's select our features! We will use these specific features:"
   ]
  },
  {
   "cell_type": "code",
   "execution_count": 20,
   "id": "cdf2696d-9d48-4109-9a22-9835454fd5dd",
   "metadata": {},
   "outputs": [],
   "source": [
    "books_features = books_data[[\"title\", \"author\", \"annotation\", \"translator\", \"nationality\", \"publisher\", \"page_count\", \"content_type\", \"category_id\"]]"
   ]
  },
  {
   "cell_type": "markdown",
   "id": "5bcfefe4-862f-4db4-a848-c88f67993793",
   "metadata": {},
   "source": [
    "### **3.2. Cleaning and tyding the features dataset**"
   ]
  },
  {
   "cell_type": "markdown",
   "id": "f7fee0da-939e-41e6-86c0-a9d15a4e4aab",
   "metadata": {},
   "source": [
    "Let's check the features quality."
   ]
  },
  {
   "cell_type": "code",
   "execution_count": 21,
   "id": "ae759b81-39ed-4fd9-9d2f-36b7fec4fa6a",
   "metadata": {},
   "outputs": [
    {
     "name": "stdout",
     "output_type": "stream",
     "text": [
      "<class 'pandas.core.frame.DataFrame'>\n",
      "RangeIndex: 19485 entries, 0 to 19484\n",
      "Data columns (total 9 columns):\n",
      " #   Column        Non-Null Count  Dtype  \n",
      "---  ------        --------------  -----  \n",
      " 0   title         19485 non-null  object \n",
      " 1   author        19267 non-null  object \n",
      " 2   annotation    14530 non-null  object \n",
      " 3   translator    15119 non-null  object \n",
      " 4   nationality   16766 non-null  object \n",
      " 5   publisher     19408 non-null  object \n",
      " 6   page_count    18271 non-null  float64\n",
      " 7   content_type  17827 non-null  object \n",
      " 8   category_id   19040 non-null  float64\n",
      "dtypes: float64(2), object(7)\n",
      "memory usage: 1.3+ MB\n"
     ]
    }
   ],
   "source": [
    "books_features.info()"
   ]
  },
  {
   "cell_type": "markdown",
   "id": "133e1b06-fb0b-448a-a2db-df98dade7e68",
   "metadata": {},
   "source": [
    "We have missing records in our features, as  we saw in 3.1. we can try to impute some of the features using the `author` column based on the assumption that a book from specific author will have the same `content_type` and `translator`. We can do the same with the target `category_id`. Let's check this assumptions, but first we will select an author."
   ]
  },
  {
   "cell_type": "code",
   "execution_count": 22,
   "id": "fcc48b42-2bc5-46f7-9997-42411324029a",
   "metadata": {},
   "outputs": [
    {
     "data": {
      "text/plain": [
       "author\n",
       "Author not found                      230\n",
       "Нора Робъртс                          161\n",
       "Стивън Кинг                           112\n",
       "Агата Кристи                          109\n",
       "Даниел Стийл                           83\n",
       "                                     ... \n",
       "И. С. Соколов-Микитов                   1\n",
       "И. С. Конев                             1\n",
       "И. Р. Григулевич                        1\n",
       "И. Коринекъ                             1\n",
       "ст. н. с. д-р Ангел Николов Зайков      1\n",
       "Length: 7933, dtype: int64"
      ]
     },
     "execution_count": 22,
     "metadata": {},
     "output_type": "execute_result"
    }
   ],
   "source": [
    "books_features.groupby(\"author\").size().sort_values(ascending=False)"
   ]
  },
  {
   "cell_type": "markdown",
   "id": "907b9797-2a7f-4bba-830e-45ffe0e74c44",
   "metadata": {},
   "source": [
    "> Romance and horror, what a combination! We choose the King."
   ]
  },
  {
   "cell_type": "code",
   "execution_count": 23,
   "id": "aa5f9814-af92-4ae2-86fe-e5902e342fc2",
   "metadata": {},
   "outputs": [
    {
     "data": {
      "text/html": [
       "<div>\n",
       "<style scoped>\n",
       "    .dataframe tbody tr th:only-of-type {\n",
       "        vertical-align: middle;\n",
       "    }\n",
       "\n",
       "    .dataframe tbody tr th {\n",
       "        vertical-align: top;\n",
       "    }\n",
       "\n",
       "    .dataframe thead th {\n",
       "        text-align: right;\n",
       "    }\n",
       "</style>\n",
       "<table border=\"1\" class=\"dataframe\">\n",
       "  <thead>\n",
       "    <tr style=\"text-align: right;\">\n",
       "      <th></th>\n",
       "      <th>title</th>\n",
       "      <th>author</th>\n",
       "      <th>annotation</th>\n",
       "      <th>translator</th>\n",
       "      <th>nationality</th>\n",
       "      <th>publisher</th>\n",
       "      <th>page_count</th>\n",
       "      <th>content_type</th>\n",
       "      <th>category_id</th>\n",
       "    </tr>\n",
       "  </thead>\n",
       "  <tbody>\n",
       "    <tr>\n",
       "      <th>176</th>\n",
       "      <td>Сияние</td>\n",
       "      <td>Стивън Кинг</td>\n",
       "      <td>NaN</td>\n",
       "      <td>Надя Баева</td>\n",
       "      <td>Американска</td>\n",
       "      <td>Народна култура</td>\n",
       "      <td>416.0</td>\n",
       "      <td>роман</td>\n",
       "      <td>136.0</td>\n",
       "    </tr>\n",
       "    <tr>\n",
       "      <th>177</th>\n",
       "      <td>Сейлъм`с Лот</td>\n",
       "      <td>Стивън Кинг</td>\n",
       "      <td>Зaпуcтял и мрaчeн, Мaрcтънoвият дoм ce издигa ...</td>\n",
       "      <td>Любомир Николов</td>\n",
       "      <td>американска</td>\n",
       "      <td>ИК „Плеяда 7“</td>\n",
       "      <td>496.0</td>\n",
       "      <td>роман</td>\n",
       "      <td>136.0</td>\n",
       "    </tr>\n",
       "    <tr>\n",
       "      <th>912</th>\n",
       "      <td>Стрелецът</td>\n",
       "      <td>Стивън Кинг</td>\n",
       "      <td>„Този роман е за мен като моя Кула, а героите ...</td>\n",
       "      <td>Милко Стоименов</td>\n",
       "      <td>американска (не е указана)</td>\n",
       "      <td>ИК „Плеяда“</td>\n",
       "      <td>208.0</td>\n",
       "      <td>роман (не е указано)</td>\n",
       "      <td>135.0</td>\n",
       "    </tr>\n",
       "    <tr>\n",
       "      <th>913</th>\n",
       "      <td>Трите карти</td>\n",
       "      <td>Стивън Кинг</td>\n",
       "      <td>„Този роман е за мен като моя Кула, а героите ...</td>\n",
       "      <td>Милко Стоименов; Весела Прошкова</td>\n",
       "      <td>американска (не е указана)</td>\n",
       "      <td>ИК „Плеяда“</td>\n",
       "      <td>352.0</td>\n",
       "      <td>роман (не е указано)</td>\n",
       "      <td>135.0</td>\n",
       "    </tr>\n",
       "    <tr>\n",
       "      <th>914</th>\n",
       "      <td>Пустош</td>\n",
       "      <td>Стивън Кинг</td>\n",
       "      <td>NaN</td>\n",
       "      <td>Милко Стоименов; Весела Прошкова; Юлия Чернева</td>\n",
       "      <td>американска</td>\n",
       "      <td>ИК „Плеяда“</td>\n",
       "      <td>448.0</td>\n",
       "      <td>роман</td>\n",
       "      <td>135.0</td>\n",
       "    </tr>\n",
       "    <tr>\n",
       "      <th>...</th>\n",
       "      <td>...</td>\n",
       "      <td>...</td>\n",
       "      <td>...</td>\n",
       "      <td>...</td>\n",
       "      <td>...</td>\n",
       "      <td>...</td>\n",
       "      <td>...</td>\n",
       "      <td>...</td>\n",
       "      <td>...</td>\n",
       "    </tr>\n",
       "    <tr>\n",
       "      <th>19065</th>\n",
       "      <td>Романът на Лизи</td>\n",
       "      <td>Стивън Кинг</td>\n",
       "      <td>Лесно ли е да си жена на известен човек?„Не“ —...</td>\n",
       "      <td>Адриан Лазаровски; Павел Боянов</td>\n",
       "      <td>американска</td>\n",
       "      <td>Издателска къща Плеяда</td>\n",
       "      <td>576.0</td>\n",
       "      <td>роман (не е указано)</td>\n",
       "      <td>136.0</td>\n",
       "    </tr>\n",
       "    <tr>\n",
       "      <th>19069</th>\n",
       "      <td>За писането</td>\n",
       "      <td>Стивън Кинг</td>\n",
       "      <td>Блестящо построена, доброжелателна и вдъхновен...</td>\n",
       "      <td>Евелина Банева</td>\n",
       "      <td>американска</td>\n",
       "      <td>Издателство „Весела Люцканова“</td>\n",
       "      <td>256.0</td>\n",
       "      <td>NaN</td>\n",
       "      <td>32.0</td>\n",
       "    </tr>\n",
       "    <tr>\n",
       "      <th>19070</th>\n",
       "      <td>Роуз Мадър</td>\n",
       "      <td>Стивън Кинг</td>\n",
       "      <td>След четиринайсет години брак Роузи Даниелс вн...</td>\n",
       "      <td>Весела Еленкова</td>\n",
       "      <td>американска (не е указано)</td>\n",
       "      <td>Издателска къща Плеяда</td>\n",
       "      <td>384.0</td>\n",
       "      <td>роман (не е указано)</td>\n",
       "      <td>132.0</td>\n",
       "    </tr>\n",
       "    <tr>\n",
       "      <th>19073</th>\n",
       "      <td>Момичето, което обичаше Том Гордън</td>\n",
       "      <td>Стивън Кинг</td>\n",
       "      <td>Светът има зъби и може да те захапе с тях, ког...</td>\n",
       "      <td>Николина Николова</td>\n",
       "      <td>американска (не е указано)</td>\n",
       "      <td>ИК „Пан ’96“ ООД</td>\n",
       "      <td>208.0</td>\n",
       "      <td>роман (не е указано)</td>\n",
       "      <td>136.0</td>\n",
       "    </tr>\n",
       "    <tr>\n",
       "      <th>19462</th>\n",
       "      <td>Холи</td>\n",
       "      <td>Стивън Кинг</td>\n",
       "      <td>Холи не ми излизаше от ума. Тя трябваше да е е...</td>\n",
       "      <td>Катя Перчинкова</td>\n",
       "      <td>американска</td>\n",
       "      <td>ИК „Бард“ ООД</td>\n",
       "      <td>464.0</td>\n",
       "      <td>роман (не е указано)</td>\n",
       "      <td>136.0</td>\n",
       "    </tr>\n",
       "  </tbody>\n",
       "</table>\n",
       "<p>112 rows × 9 columns</p>\n",
       "</div>"
      ],
      "text/plain": [
       "                                    title       author  \\\n",
       "176                                Сияние  Стивън Кинг   \n",
       "177                          Сейлъм`с Лот  Стивън Кинг   \n",
       "912                             Стрелецът  Стивън Кинг   \n",
       "913                           Трите карти  Стивън Кинг   \n",
       "914                                Пустош  Стивън Кинг   \n",
       "...                                   ...          ...   \n",
       "19065                     Романът на Лизи  Стивън Кинг   \n",
       "19069                         За писането  Стивън Кинг   \n",
       "19070                          Роуз Мадър  Стивън Кинг   \n",
       "19073  Момичето, което обичаше Том Гордън  Стивън Кинг   \n",
       "19462                                Холи  Стивън Кинг   \n",
       "\n",
       "                                              annotation  \\\n",
       "176                                                  NaN   \n",
       "177    Зaпуcтял и мрaчeн, Мaрcтънoвият дoм ce издигa ...   \n",
       "912    „Този роман е за мен като моя Кула, а героите ...   \n",
       "913    „Този роман е за мен като моя Кула, а героите ...   \n",
       "914                                                  NaN   \n",
       "...                                                  ...   \n",
       "19065  Лесно ли е да си жена на известен човек?„Не“ —...   \n",
       "19069  Блестящо построена, доброжелателна и вдъхновен...   \n",
       "19070  След четиринайсет години брак Роузи Даниелс вн...   \n",
       "19073  Светът има зъби и може да те захапе с тях, ког...   \n",
       "19462  Холи не ми излизаше от ума. Тя трябваше да е е...   \n",
       "\n",
       "                                           translator  \\\n",
       "176                                        Надя Баева   \n",
       "177                                   Любомир Николов   \n",
       "912                                   Милко Стоименов   \n",
       "913                  Милко Стоименов; Весела Прошкова   \n",
       "914    Милко Стоименов; Весела Прошкова; Юлия Чернева   \n",
       "...                                               ...   \n",
       "19065                 Адриан Лазаровски; Павел Боянов   \n",
       "19069                                  Евелина Банева   \n",
       "19070                                 Весела Еленкова   \n",
       "19073                               Николина Николова   \n",
       "19462                                 Катя Перчинкова   \n",
       "\n",
       "                      nationality                       publisher  page_count  \\\n",
       "176                   Американска                 Народна култура       416.0   \n",
       "177                   американска                   ИК „Плеяда 7“       496.0   \n",
       "912    американска (не е указана)                     ИК „Плеяда“       208.0   \n",
       "913    американска (не е указана)                     ИК „Плеяда“       352.0   \n",
       "914                   американска                     ИК „Плеяда“       448.0   \n",
       "...                           ...                             ...         ...   \n",
       "19065                 американска          Издателска къща Плеяда       576.0   \n",
       "19069                 американска  Издателство „Весела Люцканова“       256.0   \n",
       "19070  американска (не е указано)          Издателска къща Плеяда       384.0   \n",
       "19073  американска (не е указано)                ИК „Пан ’96“ ООД       208.0   \n",
       "19462                 американска                   ИК „Бард“ ООД       464.0   \n",
       "\n",
       "               content_type  category_id  \n",
       "176                   роман        136.0  \n",
       "177                   роман        136.0  \n",
       "912    роман (не е указано)        135.0  \n",
       "913    роман (не е указано)        135.0  \n",
       "914                   роман        135.0  \n",
       "...                     ...          ...  \n",
       "19065  роман (не е указано)        136.0  \n",
       "19069                   NaN         32.0  \n",
       "19070  роман (не е указано)        132.0  \n",
       "19073  роман (не е указано)        136.0  \n",
       "19462  роман (не е указано)        136.0  \n",
       "\n",
       "[112 rows x 9 columns]"
      ]
     },
     "execution_count": 23,
     "metadata": {},
     "output_type": "execute_result"
    }
   ],
   "source": [
    "books_features[books_features.author == \"Стивън Кинг\"]"
   ]
  },
  {
   "cell_type": "markdown",
   "id": "df4cfc43-c7b9-4433-a897-feec22cf3295",
   "metadata": {},
   "source": [
    "Not quite right for the `translator`, but we can take the most frequent record as the mode. We can do the same for `content_type`, `nationality`  and `category_id`."
   ]
  },
  {
   "cell_type": "markdown",
   "id": "62abfddc-e0d0-4587-8f07-e486145a2643",
   "metadata": {},
   "source": [
    "Let's do it!"
   ]
  },
  {
   "cell_type": "code",
   "execution_count": 24,
   "id": "b82bfe32-fb98-470b-9d35-b63043b83760",
   "metadata": {},
   "outputs": [],
   "source": [
    "def impute_missing_values(dataset, column_to_impute):\n",
    "    # Group by author and find the most common value for the column\n",
    "    common_values = dataset.groupby('author')[column_to_impute].agg(lambda x: pd.Series.mode(x).iat[0] if not x.mode().empty else None)\n",
    "    \n",
    "    # Fill missing values\n",
    "    for author, value in common_values.items():\n",
    "        if value is not None:\n",
    "            # Correct the .loc usage for conditional replacement\n",
    "            dataset.loc[(dataset['author'] == author) & (dataset[column_to_impute].isna()), column_to_impute] = value\n",
    "    return dataset"
   ]
  },
  {
   "cell_type": "code",
   "execution_count": 25,
   "id": "4a2f5040-a2b0-483c-bdaa-6e1172449ab3",
   "metadata": {},
   "outputs": [],
   "source": [
    "books_features = impute_missing_values(books_features, 'translator')"
   ]
  },
  {
   "cell_type": "code",
   "execution_count": 26,
   "id": "c4a395d0-b871-4e1e-bdaf-ee9469c212a5",
   "metadata": {},
   "outputs": [],
   "source": [
    "books_features = impute_missing_values(books_features, 'content_type')"
   ]
  },
  {
   "cell_type": "code",
   "execution_count": 27,
   "id": "6b0b8610-8a3d-4a4a-b41a-abf8de6e885d",
   "metadata": {},
   "outputs": [],
   "source": [
    "books_features = impute_missing_values(books_features, 'category_id')"
   ]
  },
  {
   "cell_type": "code",
   "execution_count": 28,
   "id": "75906d81-5477-4f62-84dd-b2d8ba872a8a",
   "metadata": {},
   "outputs": [],
   "source": [
    "books_features = impute_missing_values(books_features, 'nationality')"
   ]
  },
  {
   "cell_type": "code",
   "execution_count": 29,
   "id": "bae6bbc0-89d5-4b4d-8b76-0ce6723e3f0e",
   "metadata": {},
   "outputs": [
    {
     "data": {
      "text/plain": [
       "1380"
      ]
     },
     "execution_count": 29,
     "metadata": {},
     "output_type": "execute_result"
    }
   ],
   "source": [
    "books_features.nationality.isna().sum() #2719 before imputation"
   ]
  },
  {
   "cell_type": "code",
   "execution_count": 30,
   "id": "3a49fbe6-16b7-4372-bd20-1d452533b163",
   "metadata": {},
   "outputs": [
    {
     "data": {
      "text/plain": [
       "4122"
      ]
     },
     "execution_count": 30,
     "metadata": {},
     "output_type": "execute_result"
    }
   ],
   "source": [
    "books_features.translator.isna().sum() #4366 before imputation"
   ]
  },
  {
   "cell_type": "code",
   "execution_count": 31,
   "id": "ed59a17e-1f1f-4216-bfb8-446f9f29a37e",
   "metadata": {},
   "outputs": [
    {
     "data": {
      "text/plain": [
       "944"
      ]
     },
     "execution_count": 31,
     "metadata": {},
     "output_type": "execute_result"
    }
   ],
   "source": [
    "books_features.content_type.isna().sum() #1658 before imputation"
   ]
  },
  {
   "cell_type": "code",
   "execution_count": 32,
   "id": "be7980a9-2934-43f2-abca-1ef0f396ac49",
   "metadata": {},
   "outputs": [
    {
     "data": {
      "text/plain": [
       "229"
      ]
     },
     "execution_count": 32,
     "metadata": {},
     "output_type": "execute_result"
    }
   ],
   "source": [
    "books_features.category_id.isna().sum() #445 before imputation"
   ]
  },
  {
   "cell_type": "markdown",
   "id": "c3ef600f-bae7-4455-8a87-6d81368a8ce1",
   "metadata": {},
   "source": [
    "Nice, we imputed 157 records in translator, 700 records in content_type and 215 in category_id. The next step will be to remove the missing records in the features but first we have to ensure that we will not lose the books without translator which are from Bulgarian authors. We will impute the `translator` column with the string \"Missing\" where `nationality` == \"Българска\" "
   ]
  },
  {
   "cell_type": "code",
   "execution_count": 33,
   "id": "434eb71c-1436-4e53-affa-de43a56c6fe8",
   "metadata": {},
   "outputs": [],
   "source": [
    "# books_features.locbooks_features'nationality'.str.lower() == 'българска', 'translator' = books_features.locbooks_features'nationality'.str.lower() == 'българска', 'translator'.fillna('Missing')\n",
    "\n",
    "books_features.loc[books_features['nationality'].str.lower() == 'българска', 'translator'] = \\\n",
    "books_features.loc[books_features['nationality'].str.lower() == 'българска', 'translator'].fillna('Missing')\n"
   ]
  },
  {
   "cell_type": "markdown",
   "id": "3dc78704-b453-47c4-b18a-7e26d27597f0",
   "metadata": {},
   "source": [
    "Dropping the NaN."
   ]
  },
  {
   "cell_type": "code",
   "execution_count": 34,
   "id": "edd91440-f629-4a4e-9e4e-ec4d40b35182",
   "metadata": {},
   "outputs": [],
   "source": [
    "books_features = books_features.dropna()"
   ]
  },
  {
   "cell_type": "code",
   "execution_count": 35,
   "id": "685597c7-e7d2-4748-822a-40fc5b8d3a49",
   "metadata": {},
   "outputs": [
    {
     "name": "stdout",
     "output_type": "stream",
     "text": [
      "<class 'pandas.core.frame.DataFrame'>\n",
      "Index: 12562 entries, 3 to 19484\n",
      "Data columns (total 9 columns):\n",
      " #   Column        Non-Null Count  Dtype  \n",
      "---  ------        --------------  -----  \n",
      " 0   title         12562 non-null  object \n",
      " 1   author        12562 non-null  object \n",
      " 2   annotation    12562 non-null  object \n",
      " 3   translator    12562 non-null  object \n",
      " 4   nationality   12562 non-null  object \n",
      " 5   publisher     12562 non-null  object \n",
      " 6   page_count    12562 non-null  float64\n",
      " 7   content_type  12562 non-null  object \n",
      " 8   category_id   12562 non-null  float64\n",
      "dtypes: float64(2), object(7)\n",
      "memory usage: 981.4+ KB\n"
     ]
    }
   ],
   "source": [
    "books_features.info()"
   ]
  },
  {
   "cell_type": "markdown",
   "id": "3d346d95-093b-40c7-9c00-eb25325d118a",
   "metadata": {},
   "source": [
    "Transforming to integers the `page_count` and `category_id` column."
   ]
  },
  {
   "cell_type": "code",
   "execution_count": 36,
   "id": "2e9e4b39-82ad-4076-b95f-fff6c2c3e50d",
   "metadata": {},
   "outputs": [],
   "source": [
    "books_features['category_id'] = books_features['category_id'].astype(int)\n",
    "books_features['page_count'] = books_features['page_count'].astype(int)"
   ]
  },
  {
   "cell_type": "markdown",
   "id": "197fc4fd-07bd-4d06-9f29-defe900abebe",
   "metadata": {},
   "source": [
    "When everything is OK, let's make some feature engineering!"
   ]
  },
  {
   "cell_type": "markdown",
   "id": "0c4952f7-1920-47cc-bd1c-bdc1656e5b60",
   "metadata": {},
   "source": [
    "## **4. Feature engineering**"
   ]
  },
  {
   "cell_type": "markdown",
   "id": "5e5c5c3f-add4-4819-acdd-b2af27029f16",
   "metadata": {},
   "source": [
    "As we saw most of the data in the dataset is text. We will use OneHotEncoder for the `title`, `author`, `translator`, `nationality`, `publisher` and the `content_type`. We will use TfdifVectorizer for the `annotation` feature. We will use StandartScaler for `page_count` and will keep the `category_id` as it is, but may consider some engineering later. "
   ]
  },
  {
   "cell_type": "markdown",
   "id": "78889dd3-b57a-45d1-befa-5f27f4b23843",
   "metadata": {},
   "source": [
    "## **5. Preprocessing, training, inspection, interpretation and model selection**"
   ]
  },
  {
   "cell_type": "markdown",
   "id": "ff00613c-9dbc-4697-9807-140692112170",
   "metadata": {},
   "source": [
    "According to our classification task, we will train a number of widely used models to select the proper architecture and hyperparamaters for further training and optimization. We will transform all of our text features with OneNotEncoder and the `annotation` column with TfidfVectorizer, because of the text complexity and volume. We will use StandartScaler for the `page_count` feature. We will use grid search with cross validation using GridSearchCV more to provide more sample sets for model validation.  "
   ]
  },
  {
   "cell_type": "markdown",
   "id": "9b947d27-5add-4a77-9325-6cbedaa3fd64",
   "metadata": {},
   "source": [
    "### **5.1. Preprocessing and initial training**"
   ]
  },
  {
   "cell_type": "markdown",
   "id": "6bceba24-0ebe-4e77-86eb-b48db736c8ed",
   "metadata": {},
   "source": [
    "Defining feature columns"
   ]
  },
  {
   "cell_type": "code",
   "execution_count": 190,
   "id": "c1525a22-e2a0-429c-aac3-77697729addd",
   "metadata": {},
   "outputs": [],
   "source": [
    "text_features = [\"title\", \"author\", \"content_type\", \"publisher\", \"translator\", \"nationality\"]\n",
    "num_features = ['page_count']"
   ]
  },
  {
   "cell_type": "markdown",
   "id": "463877d4-eabb-4693-a7ee-c26c95e402b5",
   "metadata": {},
   "source": [
    "Splitting the data"
   ]
  },
  {
   "cell_type": "code",
   "execution_count": 52,
   "id": "2ebb9a7a-2688-4c59-92a8-0cee6d911bdf",
   "metadata": {},
   "outputs": [],
   "source": [
    "X = books_features.drop(columns=\"category_id\") \n",
    "y = books_features[\"category_id\"]\n",
    "X_train, X_test, y_train, y_test = train_test_split(X, y, test_size=0.2, random_state=42)"
   ]
  },
  {
   "cell_type": "markdown",
   "id": "94667083-92c5-4435-b5e2-0f6c7b656a9e",
   "metadata": {},
   "source": [
    "Making the pipeline"
   ]
  },
  {
   "cell_type": "code",
   "execution_count": 89,
   "id": "38f9bae3-29b4-4f85-a6af-b104705028f4",
   "metadata": {},
   "outputs": [],
   "source": [
    "# preprocessor\n",
    "preprocessor = ColumnTransformer(\n",
    "    transformers=[\n",
    "        (\"annotation_tfidf\", TfidfVectorizer(), \"annotation\"),\n",
    "        (\"text_ohe\", OneHotEncoder(handle_unknown=\"ignore\"), text_features),\n",
    "        (\"num\", StandardScaler(), num_features)\n",
    "    ]\n",
    ")\n",
    "\n",
    "# Defining pipelines with corrected syntax\n",
    "pipelines = {\n",
    "    \"logistic\": Pipeline([\n",
    "        (\"preprocessor\", preprocessor),\n",
    "        (\"classifier\", LogisticRegression(max_iter=10000, random_state=42))\n",
    "    ]),\n",
    "    \"tree\": Pipeline([\n",
    "        (\"preprocessor\", preprocessor),\n",
    "        (\"classifier\", DecisionTreeClassifier())\n",
    "    ]),\n",
    "    \"random_forest\": Pipeline([\n",
    "        (\"preprocessor\", preprocessor),\n",
    "        (\"classifier\", RandomForestClassifier())\n",
    "    ]),\n",
    "    \"SVC\": Pipeline([\n",
    "        (\"preprocessor\", preprocessor),\n",
    "        (\"classifier\", SVC())\n",
    "    ]),\n",
    "}\n",
    "\n",
    "# Parameters for GridSearchCV\n",
    "param_grid = {\n",
    "    \"logistic\": {\n",
    "        \"classifier__C\": [0.1, 1, 10, 100],\n",
    "        \"classifier__class_weight\": [None, \"balanced\"]\n",
    "    },\n",
    "    \"tree\": {\n",
    "        \"classifier__max_depth\": [None, 10, 20]\n",
    "    },\n",
    "    \"random_forest\": {\n",
    "        \"classifier__n_estimators\": [100, 200, 400],\n",
    "        \"classifier__class_weight\": [None, \"balanced\"]\n",
    "    },\n",
    "    \"SVC\": {\n",
    "        \"classifier__C\": [0.1, 1, 10, 100],\n",
    "        \"classifier__kernel\": [\"rbf', 'linear\"],\n",
    "        \"classifier__class_weight\": [None, \"balanced\"]\n",
    "    },\n",
    "}"
   ]
  },
  {
   "cell_type": "markdown",
   "id": "2c1115e0-197f-463b-b271-e634020c08f1",
   "metadata": {},
   "source": [
    "Fitting the grid."
   ]
  },
  {
   "cell_type": "code",
   "execution_count": 92,
   "id": "cc46573e-2ac2-44a1-8713-9afee57ae2f4",
   "metadata": {},
   "outputs": [
    {
     "name": "stderr",
     "output_type": "stream",
     "text": [
      "C:\\Users\\Preslav\\Documents\\Softuni\\Machine_Learning\\venv\\Lib\\site-packages\\sklearn\\model_selection\\_split.py:737: UserWarning: The least populated class in y has only 1 members, which is less than n_splits=5.\n",
      "  warnings.warn(\n"
     ]
    },
    {
     "name": "stdout",
     "output_type": "stream",
     "text": [
      "Best params for logistic: {'classifier__C': 100, 'classifier__class_weight': 'balanced'}\n",
      "Best score for logistic: 0.6864365083492443\n"
     ]
    },
    {
     "name": "stderr",
     "output_type": "stream",
     "text": [
      "C:\\Users\\Preslav\\Documents\\Softuni\\Machine_Learning\\venv\\Lib\\site-packages\\sklearn\\model_selection\\_split.py:737: UserWarning: The least populated class in y has only 1 members, which is less than n_splits=5.\n",
      "  warnings.warn(\n"
     ]
    },
    {
     "name": "stdout",
     "output_type": "stream",
     "text": [
      "Best params for tree: {'classifier__max_depth': None}\n",
      "Best score for tree: 0.34948577173861894\n"
     ]
    },
    {
     "name": "stderr",
     "output_type": "stream",
     "text": [
      "C:\\Users\\Preslav\\Documents\\Softuni\\Machine_Learning\\venv\\Lib\\site-packages\\sklearn\\model_selection\\_split.py:737: UserWarning: The least populated class in y has only 1 members, which is less than n_splits=5.\n",
      "  warnings.warn(\n"
     ]
    },
    {
     "name": "stdout",
     "output_type": "stream",
     "text": [
      "Best params for random_forest: {'classifier__class_weight': 'balanced', 'classifier__n_estimators': 400}\n",
      "Best score for random_forest: 0.48094406018687047\n"
     ]
    },
    {
     "name": "stderr",
     "output_type": "stream",
     "text": [
      "C:\\Users\\Preslav\\Documents\\Softuni\\Machine_Learning\\venv\\Lib\\site-packages\\sklearn\\model_selection\\_split.py:737: UserWarning: The least populated class in y has only 1 members, which is less than n_splits=5.\n",
      "  warnings.warn(\n"
     ]
    },
    {
     "name": "stdout",
     "output_type": "stream",
     "text": [
      "Best params for SVC: {'classifier__C': 10, 'classifier__class_weight': 'balanced', 'classifier__kernel': 'linear'}\n",
      "Best score for SVC: 0.6777785041938144\n"
     ]
    }
   ],
   "source": [
    "# Directory where the models will be saved\n",
    "models_dir = \"saved_models\"\n",
    "\n",
    "# Applying GridSearchCV\n",
    "for name, pipe in pipelines.items():\n",
    "    gs = GridSearchCV(pipe, param_grid=param_grid[name], cv=5)\n",
    "    gs.fit(X_train, y_train)\n",
    "    print(f\"Best params for {name}: {gs.best_params_}\")\n",
    "    print(f\"Best score for {name}: {gs.best_score_}\")\n",
    "    # Saving the best model to a file\n",
    "    best_model = gs.best_estimator_\n",
    "    joblib.dump(best_model, f\"{models_dir}/{name}_best_model_4.joblib\")\n"
   ]
  },
  {
   "cell_type": "markdown",
   "id": "652a2712-dc2a-4ddd-85bf-b7d66984ca3c",
   "metadata": {},
   "source": [
    "### **5.2. Model selection**"
   ]
  },
  {
   "cell_type": "markdown",
   "id": "40655ee3-0a5e-4959-8d9e-5481dcb3083c",
   "metadata": {},
   "source": [
    "Let's analyse the results:\n",
    "    \n",
    "    Best params for logistic: {'classifier__C': 100, 'classifier__class_weight': 'balanced'}\n",
    "    Best score for logistic: 0.6864365083492443\n",
    "\n",
    "    Best params for tree: {'classifier__max_depth': None}\n",
    "    Best score for tree: 0.34659930808872513\n",
    "\n",
    "    Best params for random_forest: {'classifier__class_weight': 'balanced', 'classifier__n_estimators': 400}\n",
    "    Best score for random_forest: 0.483431523319193\n",
    "\n",
    "    Best params for SVC: {'classifier__C': 10, 'classifier__class_weight': 'balanced', 'classifier__kernel': 'linear'}\n",
    "    Best score for SVC: 0.6777785041938144\n"
   ]
  },
  {
   "cell_type": "markdown",
   "id": "6bd69190-4553-4d72-8ee9-c13ab89f104c",
   "metadata": {},
   "source": [
    "At first glance we see that our logistic regression  model copes better than the others. It uses `lbfgs` solver parameter value. May be not the best choice for a large number of features (which we have thanks to the TfidfVectorizer). We see that our `tree` model usese maximum depth as best parameter - as expected. The same is with the `random_forest`. The `SVC` model performs better with `linear` kernel, which can prove that the linear regression approach could be better for our dataset. All our models \"like\" the `balanced` approach. The `logistic` and `SVC` keeps the high variance (C=100) to describe the data which means it is too complex. Expected with the unstructured texts.\n",
    "\n",
    "But this is not enought information if we want to know what is going on with the variance and bias if the models."
   ]
  },
  {
   "cell_type": "markdown",
   "id": "2ddc25a1-79c5-465e-ab30-4af60986ef12",
   "metadata": {},
   "source": [
    "### **5.3. Model inspection**"
   ]
  },
  {
   "cell_type": "markdown",
   "id": "cdcf4e63-0277-4bf0-b9c6-1942b18aef98",
   "metadata": {},
   "source": [
    "We will check the logistic regression coefficents first."
   ]
  },
  {
   "cell_type": "code",
   "execution_count": 37,
   "id": "6da6ea5e-2bc9-44e9-aac0-2a1f437e53ba",
   "metadata": {},
   "outputs": [],
   "source": [
    "model = joblib.load(\"saved_models/logistic_best_model_4.joblib\")"
   ]
  },
  {
   "cell_type": "code",
   "execution_count": 38,
   "id": "02b4dae9-775a-448c-acd8-4ad674779acc",
   "metadata": {},
   "outputs": [],
   "source": [
    "estimator = model.named_steps[\"classifier\"]"
   ]
  },
  {
   "cell_type": "markdown",
   "id": "40e4640e-11e3-4459-99e0-9caf3c8318e5",
   "metadata": {},
   "source": [
    "As we can see we have more than 100K features coefficients. These are too much dimensions!"
   ]
  },
  {
   "cell_type": "code",
   "execution_count": 39,
   "id": "b85ffe25-30f6-40e9-93b2-81c0f67d3075",
   "metadata": {},
   "outputs": [
    {
     "data": {
      "text/plain": [
       "(119, 117255)"
      ]
     },
     "execution_count": 39,
     "metadata": {},
     "output_type": "execute_result"
    }
   ],
   "source": [
    "estimator.coef_.shape"
   ]
  },
  {
   "cell_type": "code",
   "execution_count": 40,
   "id": "2d94bdf6-df4f-447a-996a-4805315dac84",
   "metadata": {},
   "outputs": [],
   "source": [
    "coefficients = estimator.coef_"
   ]
  },
  {
   "cell_type": "code",
   "execution_count": 41,
   "id": "f435b41b-926a-40f8-8336-bb7fc719f87b",
   "metadata": {},
   "outputs": [
    {
     "data": {
      "text/plain": [
       "array([[-1.00765995e-03, -4.75313958e-03, -2.88816106e-03, ...,\n",
       "        -8.93321484e-04, -4.38231679e-03, -7.19414589e-02],\n",
       "       [-4.15324159e-03,  1.65838953e-01, -1.06819491e-01, ...,\n",
       "        -3.66401211e-03, -3.00426368e-02, -2.92879678e-02],\n",
       "       [-5.55643012e-04, -7.00853559e-03, -1.16052484e-03, ...,\n",
       "        -7.20303947e-04, -3.91598970e-03,  3.42972223e-01],\n",
       "       ...,\n",
       "       [-1.76233584e-02, -1.34778783e-01, -2.02103218e-04, ...,\n",
       "        -2.45452142e-03, -7.10535687e-02,  4.43012404e-01],\n",
       "       [-3.46000780e-04, -1.23338674e-03, -8.65361235e-04, ...,\n",
       "        -2.62034926e-04, -1.56054501e-03,  2.47034156e-01],\n",
       "       [-3.26428343e-03,  6.40544960e-02, -8.62847345e-03, ...,\n",
       "        -5.70528705e-03, -4.81214146e-02, -3.10870967e-01]])"
      ]
     },
     "execution_count": 41,
     "metadata": {},
     "output_type": "execute_result"
    }
   ],
   "source": [
    "coefficients"
   ]
  },
  {
   "cell_type": "code",
   "execution_count": 42,
   "id": "3b55c6d6-fb5d-45d9-b664-a9e29efddb87",
   "metadata": {},
   "outputs": [
    {
     "data": {
      "text/plain": [
       "-2.8616846399499662"
      ]
     },
     "execution_count": 42,
     "metadata": {},
     "output_type": "execute_result"
    }
   ],
   "source": [
    "estimator.coef_.min()"
   ]
  },
  {
   "cell_type": "code",
   "execution_count": 43,
   "id": "37e3a986-e519-49f9-bf5a-6d072f10f9aa",
   "metadata": {},
   "outputs": [
    {
     "data": {
      "text/plain": [
       "7.04492062465435"
      ]
     },
     "execution_count": 43,
     "metadata": {},
     "output_type": "execute_result"
    }
   ],
   "source": [
    "estimator.coef_.max()"
   ]
  },
  {
   "cell_type": "code",
   "execution_count": 44,
   "id": "b718c91c-9fa0-4b4a-8375-da891e40abb0",
   "metadata": {},
   "outputs": [],
   "source": [
    "def plot_parameter_distribution(estimator, parameter=\"coefficients\", bins=30):\n",
    "    \"\"\"\n",
    "    Plots the distribution of coefficients or intercept from a given estimator.\n",
    "    \n",
    "    Parameters:\n",
    "    estimator: The trained model object with coef_ and intercept_ attributes.\n",
    "    parameter: Specifies the parameter to plot ('coefficients', 'intercept', 'both').\n",
    "    bins: Number of bins for the histogram (default: 30).\n",
    "    \"\"\"\n",
    "    if parameter == \"coefficients\":\n",
    "        values = np.ravel(estimator.coef_)\n",
    "        title = \"Distribution of Coefficients\"\n",
    "    elif parameter == \"intercept\":\n",
    "        values = estimator.intercept_\n",
    "        title = \"Distribution of Intercept\"\n",
    "    else:\n",
    "        raise ValueError(\"Parameter must be 'coefficients' or 'intercept'\")\n",
    "    \n",
    "    # Plotting\n",
    "    plt.figure(figsize=(10, 6))\n",
    "    sns.histplot(values, bins=bins, kde=True)\n",
    "    plt.title(title)\n",
    "    plt.xlabel(\"Parameter Value\")\n",
    "    plt.ylabel(\"Frequency\")\n",
    "    plt.show()"
   ]
  },
  {
   "cell_type": "code",
   "execution_count": 45,
   "id": "15a29c00-990e-4ef9-853f-035450164e22",
   "metadata": {},
   "outputs": [
    {
     "data": {
      "image/png": "[encoded data removed]",
      "text/plain": [
       "<Figure size 1000x600 with 1 Axes>"
      ]
     },
     "metadata": {},
     "output_type": "display_data"
    }
   ],
   "source": [
    "plot_parameter_distribution(estimator, parameter=\"coefficients\")"
   ]
  },
  {
   "cell_type": "markdown",
   "id": "8e7d4c8c-2b19-4a04-8abe-e3a5105b4c45",
   "metadata": {},
   "source": [
    "The model have a very high concentration of coefficients (10,000,000) around zero. This could be and indication that most features have a very small impact on the model's predictions, and only a few features might be driving the model's decisions."
   ]
  },
  {
   "cell_type": "code",
   "execution_count": 46,
   "id": "0ecbcf5e-6512-434c-b2ff-fee97c734c0c",
   "metadata": {},
   "outputs": [],
   "source": [
    "intercept = estimator.intercept_"
   ]
  },
  {
   "cell_type": "code",
   "execution_count": 47,
   "id": "ced1d062-28a8-4a2a-82ab-9f1197392970",
   "metadata": {},
   "outputs": [
    {
     "data": {
      "text/plain": [
       "array([-0.62448832,  1.29850673, -0.39640402, -3.32927739,  0.35478356,\n",
       "       -1.29457052, -0.70787602,  0.73328893, -1.86704949,  0.24662413,\n",
       "       -1.24903296, -0.96001324,  0.78791426, -1.18216649, -0.87924268,\n",
       "       -0.30190192,  1.21901719,  2.08594901, -0.02355054, -0.7658075 ,\n",
       "       -0.37627244, -0.76349209,  0.48658446, -0.48159562,  2.2865409 ,\n",
       "       -0.5424502 ,  0.39047132, -0.23264816,  1.95090987, -0.4136307 ,\n",
       "       -1.45563007,  2.30903596, -0.24588711, -1.02262435, -1.38153718,\n",
       "       -0.84017095, -0.67616771, -0.9558044 ,  0.97178628,  0.35144896,\n",
       "       -0.50524615, -1.71728841, -0.84878844, -3.57661395,  0.37889253,\n",
       "       -0.24893785, -0.52096418, -1.48256211, -1.24332555, -0.9033324 ,\n",
       "        0.94957608, -1.66309844, -1.48465416,  0.68335051, -0.17413334,\n",
       "        0.44123565,  2.4570321 ,  1.31548055, -1.84541845, -1.01506312,\n",
       "       -2.00194788, -0.7211041 , -1.53503597, -1.93853677, -1.21300802,\n",
       "       -0.84607456, -1.41228994, -1.59985758, -1.43344927, -1.67108025,\n",
       "       -2.38657204, -1.17359632, -3.04516126, -1.63384859, -3.40845717,\n",
       "        1.90924169, -2.24146929,  1.51874554, -0.59078492,  1.90099414,\n",
       "        2.46042779,  3.63044635,  0.53397868,  1.96281751,  1.878854  ,\n",
       "       -0.16101645,  1.91877618,  0.52903296, -1.70189328, -0.13000626,\n",
       "        1.0152353 , -0.67887421,  3.06252229,  2.32896663, -1.56807292,\n",
       "        0.93799302,  1.87615149,  0.86149437,  0.66250107,  0.85899155,\n",
       "        1.78460518,  1.30812631,  3.05990325,  2.4823504 ,  0.87023264,\n",
       "       -0.22093883, -1.22210217,  1.39883835,  0.17910211,  0.50210907,\n",
       "       -0.54877385,  2.38671403,  1.6847361 ,  1.1369087 ,  2.76956016,\n",
       "        2.1947061 ,  1.73669061, -1.44890221,  1.69139017])"
      ]
     },
     "execution_count": 47,
     "metadata": {},
     "output_type": "execute_result"
    }
   ],
   "source": [
    "intercept"
   ]
  },
  {
   "cell_type": "code",
   "execution_count": 48,
   "id": "5fce6291-ac35-42d0-b85f-6a3e2d016f20",
   "metadata": {},
   "outputs": [
    {
     "data": {
      "image/png": "[encoded data removed]",
      "text/plain": [
       "<Figure size 1000x600 with 1 Axes>"
      ]
     },
     "metadata": {},
     "output_type": "display_data"
    }
   ],
   "source": [
    "plot_parameter_distribution(estimator, parameter=\"intercept\")"
   ]
  },
  {
   "cell_type": "markdown",
   "id": "4efef2fb-acb6-4c64-8ded-83cd18281ce2",
   "metadata": {},
   "source": [
    "Having most of our coefficents around 0 and most of our intercepts away from zero may be an indication of a high noise in the data. Expected with the textual data."
   ]
  },
  {
   "cell_type": "markdown",
   "id": "f878f223-4e04-4854-a39a-c51938d86ef1",
   "metadata": {},
   "source": [
    "### **5.4. Model interpretation**"
   ]
  },
  {
   "cell_type": "markdown",
   "id": "c17d58c4-add2-4613-8350-fb8878c9a4c7",
   "metadata": {},
   "source": [
    "> Let's dig deeper!"
   ]
  },
  {
   "cell_type": "markdown",
   "id": "764ccb82-d3de-448b-9a52-bf02e9fbb959",
   "metadata": {},
   "source": [
    "Let's make a function to evaluate our model performance."
   ]
  },
  {
   "cell_type": "code",
   "execution_count": 49,
   "id": "bd708ff9-9b49-43c0-b610-7d2b32f066bd",
   "metadata": {},
   "outputs": [],
   "source": [
    "model_name = joblib.load(\"saved_models/logistic_best_model_4.joblib\")"
   ]
  },
  {
   "cell_type": "code",
   "execution_count": 50,
   "id": "69ce917a-edb2-419d-a189-d6513fd490d0",
   "metadata": {},
   "outputs": [],
   "source": [
    "def evaluate_model(model_name, X_train, y_train, X_test, y_test):\n",
    "    \n",
    "    # Make predictions on both train and test sets\n",
    "    train_predictions = model.predict(X_train)\n",
    "    test_predictions = model.predict(X_test)\n",
    "\n",
    "    # Evaluate performance on both sets\n",
    "    train_accuracy = accuracy_score(y_train, train_predictions)\n",
    "    test_accuracy = accuracy_score(y_test, test_predictions)\n",
    "\n",
    "    # Generating classification reports for more details\n",
    "    train_report = classification_report(y_train, train_predictions, zero_division=0)\n",
    "    test_report = classification_report(y_test, test_predictions, zero_division=0)\n",
    "\n",
    "    return train_accuracy, test_accuracy, train_report, test_report"
   ]
  },
  {
   "cell_type": "code",
   "execution_count": 53,
   "id": "3acfa205-d2d2-4983-a106-d10cb75a2926",
   "metadata": {
    "scrolled": true
   },
   "outputs": [
    {
     "name": "stdout",
     "output_type": "stream",
     "text": [
      "Training Accuracy: 0.9997014628321226\n",
      "Test Accuracy: 0.6935933147632312\n",
      "Training Classification Report:\n",
      "              precision    recall  f1-score   support\n",
      "\n",
      "           1       1.00      1.00      1.00         5\n",
      "           2       1.00      1.00      1.00       104\n",
      "           3       1.00      1.00      1.00         3\n",
      "           5       1.00      1.00      1.00         1\n",
      "           6       1.00      1.00      1.00        48\n",
      "           7       1.00      1.00      1.00         1\n",
      "           8       1.00      1.00      1.00         1\n",
      "           9       1.00      1.00      1.00         6\n",
      "          10       1.00      1.00      1.00         1\n",
      "          12       1.00      1.00      1.00         7\n",
      "          13       1.00      1.00      1.00         2\n",
      "          14       1.00      1.00      1.00         3\n",
      "          15       1.00      1.00      1.00        10\n",
      "          16       1.00      1.00      1.00         1\n",
      "          17       1.00      1.00      1.00         1\n",
      "          18       1.00      1.00      1.00         7\n",
      "          19       1.00      1.00      1.00        27\n",
      "          20       1.00      1.00      1.00        26\n",
      "          21       1.00      1.00      1.00         3\n",
      "          24       1.00      1.00      1.00         1\n",
      "          25       1.00      1.00      1.00         2\n",
      "          27       1.00      1.00      1.00         2\n",
      "          28       1.00      1.00      1.00         9\n",
      "          29       1.00      1.00      1.00         6\n",
      "          30       1.00      1.00      1.00        52\n",
      "          31       1.00      1.00      1.00         4\n",
      "          32       1.00      1.00      1.00        13\n",
      "          33       1.00      1.00      1.00         4\n",
      "          34       1.00      1.00      1.00        26\n",
      "          35       1.00      1.00      1.00         2\n",
      "          36       1.00      1.00      1.00         1\n",
      "          37       1.00      1.00      1.00        51\n",
      "          38       1.00      1.00      1.00         4\n",
      "          39       1.00      1.00      1.00         2\n",
      "          40       1.00      1.00      1.00         1\n",
      "          41       1.00      1.00      1.00         2\n",
      "          42       1.00      1.00      1.00         2\n",
      "          43       1.00      1.00      1.00         1\n",
      "          44       1.00      1.00      1.00        15\n",
      "          45       1.00      1.00      1.00        31\n",
      "          46       1.00      1.00      1.00        27\n",
      "          47       1.00      1.00      1.00         3\n",
      "          48       1.00      1.00      1.00         1\n",
      "          49       1.00      1.00      1.00         2\n",
      "          50       1.00      1.00      1.00         7\n",
      "          52       1.00      1.00      1.00         5\n",
      "          54       1.00      1.00      1.00         3\n",
      "          56       1.00      1.00      1.00         1\n",
      "          57       1.00      1.00      1.00         1\n",
      "          58       1.00      1.00      1.00         2\n",
      "          60       1.00      1.00      1.00         7\n",
      "          61       1.00      1.00      1.00         1\n",
      "          62       1.00      1.00      1.00         2\n",
      "          63       1.00      1.00      1.00        14\n",
      "          64       1.00      1.00      1.00        20\n",
      "          65       1.00      1.00      1.00        12\n",
      "          66       1.00      1.00      1.00        73\n",
      "          67       1.00      1.00      1.00        46\n",
      "          68       1.00      1.00      1.00         5\n",
      "          69       1.00      1.00      1.00        68\n",
      "          70       1.00      1.00      1.00         7\n",
      "          71       1.00      1.00      1.00        43\n",
      "          72       1.00      1.00      1.00         6\n",
      "          73       1.00      1.00      1.00        34\n",
      "          74       1.00      1.00      1.00         6\n",
      "          75       1.00      1.00      1.00        11\n",
      "          76       1.00      1.00      1.00         5\n",
      "          77       1.00      1.00      1.00        50\n",
      "          78       1.00      1.00      1.00         8\n",
      "          79       1.00      1.00      1.00        57\n",
      "          80       1.00      1.00      1.00        51\n",
      "          81       1.00      1.00      1.00         2\n",
      "          83       1.00      1.00      1.00        43\n",
      "          84       1.00      1.00      1.00        49\n",
      "          85       1.00      1.00      1.00       128\n",
      "          86       1.00      1.00      1.00       155\n",
      "          88       1.00      1.00      1.00         6\n",
      "          89       1.00      1.00      1.00        55\n",
      "          90       1.00      1.00      1.00         7\n",
      "          91       1.00      1.00      1.00       259\n",
      "          92       1.00      1.00      1.00        69\n",
      "          93       1.00      1.00      1.00       169\n",
      "          94       1.00      1.00      1.00         4\n",
      "          95       1.00      1.00      1.00        21\n",
      "          96       1.00      1.00      1.00        33\n",
      "          97       1.00      1.00      1.00         2\n",
      "          98       1.00      1.00      1.00        40\n",
      "          99       1.00      1.00      1.00        11\n",
      "         101       1.00      1.00      1.00         1\n",
      "         105       1.00      1.00      1.00         3\n",
      "         107       1.00      1.00      1.00       345\n",
      "         108       1.00      1.00      1.00        37\n",
      "         109       1.00      1.00      1.00       833\n",
      "         110       1.00      1.00      1.00      1459\n",
      "         111       1.00      1.00      1.00         2\n",
      "         112       1.00      1.00      1.00         6\n",
      "         114       1.00      1.00      1.00       162\n",
      "         115       1.00      1.00      1.00        18\n",
      "         116       1.00      1.00      1.00        47\n",
      "         117       1.00      1.00      1.00         9\n",
      "         118       1.00      1.00      1.00        27\n",
      "         119       1.00      1.00      1.00       126\n",
      "         120       1.00      1.00      1.00       117\n",
      "         121       1.00      1.00      1.00      1143\n",
      "         122       1.00      1.00      1.00        10\n",
      "         123       1.00      1.00      1.00         3\n",
      "         125       1.00      1.00      1.00         1\n",
      "         126       1.00      1.00      1.00        21\n",
      "         128       1.00      1.00      1.00         5\n",
      "         129       1.00      1.00      1.00         6\n",
      "         130       1.00      1.00      1.00         3\n",
      "         131       1.00      1.00      1.00        28\n",
      "         132       1.00      1.00      1.00      1637\n",
      "         133       1.00      1.00      1.00        86\n",
      "         134       1.00      1.00      1.00       640\n",
      "         135       1.00      1.00      1.00       920\n",
      "         136       1.00      1.00      1.00       167\n",
      "         137       1.00      1.00      1.00         1\n",
      "         138       1.00      1.00      1.00        67\n",
      "\n",
      "    accuracy                           1.00     10049\n",
      "   macro avg       1.00      1.00      1.00     10049\n",
      "weighted avg       1.00      1.00      1.00     10049\n",
      "\n",
      "Test Classification Report:\n",
      "              precision    recall  f1-score   support\n",
      "\n",
      "         2.0       0.50      0.69      0.58        26\n",
      "         3.0       0.00      0.00      0.00         2\n",
      "         5.0       0.00      0.00      0.00         1\n",
      "         6.0       0.71      0.83      0.77        12\n",
      "        14.0       0.00      0.00      0.00         1\n",
      "        15.0       0.00      0.00      0.00         1\n",
      "        18.0       0.00      0.00      0.00         3\n",
      "        19.0       1.00      0.50      0.67         4\n",
      "        20.0       0.50      0.56      0.53         9\n",
      "        21.0       0.00      0.00      0.00         1\n",
      "        22.0       0.00      0.00      0.00         3\n",
      "        25.0       0.00      0.00      0.00         0\n",
      "        27.0       0.00      0.00      0.00         1\n",
      "        28.0       0.00      0.00      0.00         5\n",
      "        29.0       0.00      0.00      0.00         2\n",
      "        30.0       0.47      0.62      0.53        13\n",
      "        31.0       0.00      0.00      0.00         2\n",
      "        32.0       0.00      0.00      0.00         3\n",
      "        34.0       0.50      0.40      0.44         5\n",
      "        36.0       0.00      0.00      0.00         2\n",
      "        37.0       0.65      0.92      0.76        12\n",
      "        39.0       0.00      0.00      0.00         0\n",
      "        41.0       0.00      0.00      0.00         1\n",
      "        42.0       0.00      0.00      0.00         1\n",
      "        44.0       1.00      0.14      0.25         7\n",
      "        45.0       0.60      0.67      0.63         9\n",
      "        46.0       0.00      0.00      0.00         6\n",
      "        47.0       0.00      0.00      0.00         1\n",
      "        49.0       0.00      0.00      0.00         1\n",
      "        50.0       0.33      0.50      0.40         2\n",
      "        52.0       0.00      0.00      0.00         1\n",
      "        53.0       0.00      0.00      0.00         1\n",
      "        54.0       0.00      0.00      0.00         1\n",
      "        56.0       0.00      0.00      0.00         1\n",
      "        58.0       0.00      0.00      0.00         1\n",
      "        60.0       0.00      0.00      0.00         2\n",
      "        62.0       1.00      1.00      1.00         1\n",
      "        63.0       0.75      1.00      0.86         3\n",
      "        64.0       0.67      0.33      0.44         6\n",
      "        65.0       0.33      0.50      0.40         2\n",
      "        66.0       0.71      0.56      0.63        18\n",
      "        67.0       0.00      0.00      0.00        10\n",
      "        68.0       1.00      1.00      1.00         1\n",
      "        69.0       0.39      0.29      0.33        24\n",
      "        71.0       0.50      0.70      0.58        10\n",
      "        72.0       1.00      1.00      1.00         1\n",
      "        73.0       0.82      0.64      0.72        14\n",
      "        74.0       1.00      0.50      0.67         2\n",
      "        75.0       1.00      0.67      0.80         3\n",
      "        76.0       0.00      0.00      0.00         2\n",
      "        77.0       0.45      0.56      0.50         9\n",
      "        78.0       1.00      1.00      1.00         1\n",
      "        79.0       0.50      0.40      0.44        15\n",
      "        80.0       0.43      0.21      0.29        14\n",
      "        83.0       0.50      0.78      0.61         9\n",
      "        84.0       0.45      0.60      0.51        15\n",
      "        85.0       0.40      0.71      0.51        24\n",
      "        86.0       0.75      0.64      0.69        33\n",
      "        89.0       0.44      0.67      0.53         6\n",
      "        90.0       0.20      0.25      0.22         4\n",
      "        91.0       0.68      0.68      0.68        63\n",
      "        92.0       0.43      0.38      0.40        16\n",
      "        93.0       0.72      0.70      0.71        47\n",
      "        94.0       0.00      0.00      0.00         1\n",
      "        95.0       0.50      0.20      0.29         5\n",
      "        96.0       0.27      0.43      0.33         7\n",
      "        97.0       0.00      0.00      0.00         2\n",
      "        98.0       0.67      0.33      0.44        12\n",
      "        99.0       0.00      0.00      0.00         1\n",
      "       103.0       0.00      0.00      0.00         1\n",
      "       105.0       0.00      0.00      0.00         1\n",
      "       107.0       0.69      0.54      0.60       113\n",
      "       108.0       1.00      0.92      0.96        12\n",
      "       109.0       0.77      0.65      0.71       217\n",
      "       110.0       0.78      0.87      0.82       351\n",
      "       111.0       0.00      0.00      0.00         1\n",
      "       112.0       0.00      0.00      0.00         1\n",
      "       113.0       0.00      0.00      0.00         1\n",
      "       114.0       0.79      0.65      0.71        34\n",
      "       115.0       0.00      0.00      0.00         3\n",
      "       116.0       0.33      0.33      0.33         9\n",
      "       117.0       0.00      0.00      0.00         1\n",
      "       118.0       0.50      0.20      0.29        10\n",
      "       119.0       0.58      0.45      0.51        40\n",
      "       120.0       0.50      0.66      0.57        35\n",
      "       121.0       0.60      0.67      0.63       275\n",
      "       122.0       0.00      0.00      0.00         0\n",
      "       123.0       0.00      0.00      0.00         2\n",
      "       126.0       0.00      0.00      0.00         6\n",
      "       127.0       0.00      0.00      0.00         1\n",
      "       128.0       0.00      0.00      0.00         2\n",
      "       129.0       0.50      1.00      0.67         1\n",
      "       130.0       0.00      0.00      0.00         1\n",
      "       131.0       0.75      0.60      0.67         5\n",
      "       132.0       0.72      0.82      0.77       391\n",
      "       133.0       0.67      0.19      0.30        21\n",
      "       134.0       0.75      0.79      0.77       146\n",
      "       135.0       0.87      0.84      0.85       265\n",
      "       136.0       0.59      0.71      0.65        31\n",
      "       138.0       0.73      0.67      0.70        12\n",
      "\n",
      "    accuracy                           0.69      2513\n",
      "   macro avg       0.36      0.34      0.34      2513\n",
      "weighted avg       0.68      0.69      0.68      2513\n",
      "\n",
      "\n"
     ]
    }
   ],
   "source": [
    "# Evaluate Logistic Regression model\n",
    "train_acc, test_acc, train_report, test_report = evaluate_model(model_name, X_train, y_train, X_test, y_test)\n",
    "print(f\"Training Accuracy: {train_acc}\")\n",
    "print(f\"Test Accuracy: {test_acc}\")\n",
    "print(f\"Training Classification Report:\\n{train_report}\")\n",
    "print(f\"Test Classification Report:\\n{test_report}\\n\")"
   ]
  },
  {
   "cell_type": "markdown",
   "id": "964bcd90-0dda-411d-8e6e-5017336dc37d",
   "metadata": {},
   "source": [
    "As we can see, every model overfits with the training data. The difference between training and testing accuracy varies between 30% - for the logistic regression model and SVC and more than 60% for the tree. Looking at the testing result we can say that we have a significant imbalance in our classes. But let's dig deeper!\n",
    "\n",
    "Looking at the test set classification report we can see that the model performs well on some classes but very poorly on others, especially those with fewer instances (low support):\n",
    "\n",
    "- Some classes like 6, 19, 37, 44, 62, 63, 68, 72, 74, 75, 78, 108, 122, and 129 show high precision, indicating good performance for these specific classes. However, the recall varies significantly, indicating that the model's ability to detect all positive samples of a class is not consistent and gives false positives matches.\n",
    "- Many classes (e.g., 3, 5, 7, 8, 10, 14, 15, 16, 17, 18, 21, 22, 24, 25, 27, 28, 29, 31, 32, 35, 36, 39, 41, 42, 46, 47, 49, 52, 53, 54, 56, 57, 61, 58, 60, 67, 76, 94, 97, 99, 101, 103, 105, 111, 112,113, 115, 117, 122, 123, 125, 126, 127, 128, 130, 137) have precision, recall, and F1-score of 0.00. This is expected because they have only few samples as support number. However a small number of these classes overfit.\n",
    "- Macro Average (average of the metric across classes) for precision, recall, and F1-score are all around 0.34, which is low but keeping in mind that we have a lot of minority classes.\n",
    "- Weighted Average (average of the metric, weighted by support) for precision, recall, and F1-score are better (around 0.68), indicating that the model performs better on more frequent classes.\n",
    "    \n",
    "Nice, it looks like we have high variance and high bias too!\n",
    "\n",
    "We will use dimensionality reduction, to simplify our model. We will use the `parent_id` as target variable instead of `category_id` for the minority classes.\n"
   ]
  },
  {
   "cell_type": "markdown",
   "id": "47d32e77-c699-4d4a-a46d-bf46b99f5ef7",
   "metadata": {},
   "source": [
    "## **6. Model optimization, selection, inspection and interpretation**"
   ]
  },
  {
   "cell_type": "markdown",
   "id": "ddf365fe-3a35-40df-be7c-726c88d41bc0",
   "metadata": {},
   "source": [
    "### **6.1. Classes transformation**"
   ]
  },
  {
   "cell_type": "markdown",
   "id": "a59ea1f0-d413-4e6d-b7cc-e31d29a444b4",
   "metadata": {},
   "source": [
    "Before we retrain our model let's make some feature engineering. We will transform the `category_id` of every sample belonging to a minority class to its `parent_id`. "
   ]
  },
  {
   "cell_type": "code",
   "execution_count": 54,
   "id": "0ad4b534-00f9-4a98-b1f1-5dd2d5ce5006",
   "metadata": {},
   "outputs": [
    {
     "data": {
      "text/plain": [
       "category_id\n",
       "1         5\n",
       "2       130\n",
       "3         5\n",
       "5         2\n",
       "6        60\n",
       "       ... \n",
       "134     786\n",
       "135    1185\n",
       "136     198\n",
       "137       1\n",
       "138      79\n",
       "Length: 124, dtype: int64"
      ]
     },
     "execution_count": 54,
     "metadata": {},
     "output_type": "execute_result"
    }
   ],
   "source": [
    "books_features.groupby(\"category_id\").size()"
   ]
  },
  {
   "cell_type": "code",
   "execution_count": 55,
   "id": "0110b85b-1551-4b2a-bb12-6dbb212142ee",
   "metadata": {},
   "outputs": [],
   "source": [
    "def update_to_top_level_parent_id(category_id):\n",
    "    while category_id in specific_ids and category_id in parent_id_mapping:\n",
    "        category_id = parent_id_mapping[category_id]\n",
    "    return category_id"
   ]
  },
  {
   "cell_type": "code",
   "execution_count": 56,
   "id": "f1635a02-fca2-47db-9c12-9ccc9d27d245",
   "metadata": {},
   "outputs": [],
   "source": [
    "specific_ids = [3, 5, 7, 8, 10, 14, 15, 16, 17, 18, 21, 22, 24, 25, 27, 28, 29, 31, 32, 35, 36, 39, 41, 42, 46, 47, 49, 52, 53, 54, 56, 57, 61, 58, 60, 67, 76, 94, 97, 99, 101, 103, 105, 111, 112,113, 115, 117, 122, 123, 125, 126, 127, 128, 130, 137]\n",
    "parent_id_mapping = books_category.set_index(\"id\")[\"parent_id\"].to_dict()"
   ]
  },
  {
   "cell_type": "code",
   "execution_count": 57,
   "id": "3ba517cb-2afd-493e-b507-46608db9796a",
   "metadata": {},
   "outputs": [],
   "source": [
    "books_features.category_id = books_features.category_id.apply(update_to_top_level_parent_id)"
   ]
  },
  {
   "cell_type": "markdown",
   "id": "da51c3bc-1c59-45d3-a9ee-4bd1a3c36b43",
   "metadata": {},
   "source": [
    "We still have categories with less than 4 samples."
   ]
  },
  {
   "cell_type": "code",
   "execution_count": 58,
   "id": "cb06cff7-f5ed-4f04-81d1-b00c888d546f",
   "metadata": {},
   "outputs": [
    {
     "data": {
      "text/plain": [
       "category_id\n",
       "13.0    2\n",
       "40.0    1\n",
       "43.0    1\n",
       "48.0    1\n",
       "62.0    3\n",
       "81.0    2\n",
       "dtype: int64"
      ]
     },
     "execution_count": 58,
     "metadata": {},
     "output_type": "execute_result"
    }
   ],
   "source": [
    "# Group by category_id and count the number of samples in each category\n",
    "category_counts = books_features.groupby(\"category_id\").size()\n",
    "\n",
    "# Filter categories where the count is less than or equal to 2\n",
    "small_categories = category_counts[category_counts <= 3]\n",
    "\n",
    "# Display the counts for these categories\n",
    "small_categories\n"
   ]
  },
  {
   "cell_type": "markdown",
   "id": "f002c7bd-f0e6-4c11-a3d8-72ab5930ffa5",
   "metadata": {},
   "source": [
    "We will impute them with their `parent_id` too."
   ]
  },
  {
   "cell_type": "code",
   "execution_count": 59,
   "id": "159a24ee-330f-4555-87b8-374e239d4b32",
   "metadata": {},
   "outputs": [],
   "source": [
    "specific_ids = [13 , 40, 43, 48 , 62, 81]\n",
    "parent_id_mapping = books_category.set_index(\"id\")[\"parent_id\"].to_dict()\n",
    "books_features.category_id = books_features.category_id.apply(update_to_top_level_parent_id)"
   ]
  },
  {
   "cell_type": "code",
   "execution_count": 60,
   "id": "4536e05b-9eb7-44c1-b818-9c9c9473ecc0",
   "metadata": {},
   "outputs": [
    {
     "data": {
      "text/plain": [
       "category_id\n",
       "1.0        104\n",
       "2.0        130\n",
       "6.0         60\n",
       "7.0          2\n",
       "9.0          6\n",
       "          ... \n",
       "134.0      786\n",
       "135.0     1185\n",
       "136.0      198\n",
       "138.0       79\n",
       "1067.0     172\n",
       "Length: 66, dtype: int64"
      ]
     },
     "execution_count": 60,
     "metadata": {},
     "output_type": "execute_result"
    }
   ],
   "source": [
    "books_features.groupby(\"category_id\").size()"
   ]
  },
  {
   "cell_type": "markdown",
   "id": "6299d968-6e4d-40a8-a1a4-59acdebeef97",
   "metadata": {},
   "source": [
    "Yes there is imbalance again, but who can blame the people's taste about books. After all we decreased the number of classes from 124 to 66. OK, let's go ahead and simplify the model."
   ]
  },
  {
   "cell_type": "markdown",
   "id": "c74631e3-b79a-4041-9e73-2ba20009e086",
   "metadata": {},
   "source": [
    "### **6.2. Dimensionality reduction**\n",
    "\n",
    "We will apply `TruncatedSVD` over all text features and `PCA` over the numerical. To selecct our best solver we included the `solver` hyper parameter in the grid. We will make stratification over the target variable. We will use `L1` regularisation with the `liblinear` kernel to try to make make some sort of feature selection, because this type of regularization can make some of the coefficients = 0."
   ]
  },
  {
   "cell_type": "markdown",
   "id": "d5096787-b429-4518-8ea4-706bcb7a4abe",
   "metadata": {},
   "source": [
    "### **6.3. Training**"
   ]
  },
  {
   "cell_type": "markdown",
   "id": "1910b2ee-b77e-4f86-8f85-551645c2a144",
   "metadata": {},
   "source": [
    "Defining feature columns"
   ]
  },
  {
   "cell_type": "code",
   "execution_count": 61,
   "id": "082e5c3e-9c20-41b6-abd7-efba0e7b3d8a",
   "metadata": {},
   "outputs": [],
   "source": [
    "text_features = [\"title\", \"author\", \"content_type\", \"publisher\", \"translator\", \"nationality\"]\n",
    "num_features = ['page_count']"
   ]
  },
  {
   "cell_type": "markdown",
   "id": "362766de-4a2f-4b75-850b-3d86a557b880",
   "metadata": {},
   "source": [
    "Splitting the data. We will stratify the split this time to ensure that we have representation from all classes."
   ]
  },
  {
   "cell_type": "code",
   "execution_count": 76,
   "id": "d34e8946-8745-4c8a-8704-2fdd1d5209b8",
   "metadata": {},
   "outputs": [],
   "source": [
    "X = books_features.drop(columns=\"category_id\") \n",
    "y = books_features[\"category_id\"]\n",
    "X_train, X_test, y_train, y_test = train_test_split(X, y, test_size=0.2, random_state=42, stratify=y)"
   ]
  },
  {
   "cell_type": "code",
   "execution_count": 261,
   "id": "d0126750-481d-47ab-be61-f2dc0b20d155",
   "metadata": {
    "scrolled": true
   },
   "outputs": [
    {
     "name": "stderr",
     "output_type": "stream",
     "text": [
      "C:\\Users\\Preslav\\Documents\\Softuni\\Machine_Learning\\venv\\Lib\\site-packages\\sklearn\\model_selection\\_split.py:737: UserWarning: The least populated class in y has only 2 members, which is less than n_splits=5.\n",
      "  warnings.warn(\n"
     ]
    },
    {
     "name": "stdout",
     "output_type": "stream",
     "text": [
      "Best params: {'classifier__C': 100, 'classifier__class_weight': None, 'classifier__penalty': 'l2', 'classifier__solver': 'lbfgs', 'preprocessor__annotation_svd__truncatedsvd__n_components': 150, 'preprocessor__num_pca__pca__n_components': 0.99, 'preprocessor__text_svd__truncatedsvd__n_components': 150}\n",
      "Best score: 0.6116042980716131\n"
     ]
    },
    {
     "data": {
      "text/plain": [
       "['saved_models/logistic_best_model_9.joblib']"
      ]
     },
     "execution_count": 261,
     "metadata": {},
     "output_type": "execute_result"
    }
   ],
   "source": [
    "# preprocessor ColumnTransformer\n",
    "preprocessor = ColumnTransformer(transformers=[\n",
    "    ('annotation_svd', make_pipeline(TfidfVectorizer(), TruncatedSVD()), 'annotation'),\n",
    "    ('text_svd', make_pipeline(OneHotEncoder(handle_unknown='ignore'), TruncatedSVD()), text_features),\n",
    "    ('num_pca', make_pipeline(StandardScaler(), PCA()), num_features)\n",
    "])\n",
    "\n",
    "# pipeline\n",
    "pipeline = Pipeline([\n",
    "    ('preprocessor', preprocessor),\n",
    "    ('classifier', LogisticRegression(max_iter=10000, random_state=42))\n",
    "])\n",
    "\n",
    "# parameter grid\n",
    "param_grid = [\n",
    "    {\n",
    "        'classifier__C': [0.01, 0.1, 1, 10],\n",
    "        'classifier__class_weight': [None, 'balanced'],\n",
    "        'classifier__solver': ['liblinear'],\n",
    "        'classifier__penalty': ['l1'],\n",
    "        'preprocessor__annotation_svd__truncatedsvd__n_components': [50, 100, 150],\n",
    "        'preprocessor__text_svd__truncatedsvd__n_components': [50, 100, 150],\n",
    "        'preprocessor__num_pca__pca__n_components': [0.85, 0.95, 0.99]\n",
    "    },\n",
    "    {\n",
    "        'classifier__C': [0.1, 1, 10, 100],\n",
    "        'classifier__class_weight': [None, 'balanced'],\n",
    "        'classifier__solver': ['newton-cg', 'lbfgs'],\n",
    "        'classifier__penalty': ['l2'],\n",
    "        'preprocessor__annotation_svd__truncatedsvd__n_components': [50, 100, 150],\n",
    "        'preprocessor__text_svd__truncatedsvd__n_components': [50, 100, 150],\n",
    "        'preprocessor__num_pca__pca__n_components': [0.85, 0.95, 0.99]\n",
    "    }\n",
    "]\n",
    "\n",
    "# Assuming X_train and y_train are already defined\n",
    "# Apply GridSearchCV\n",
    "gs = GridSearchCV(pipeline, param_grid, cv=5)\n",
    "gs.fit(X_train, y_train)\n",
    "print(f\"Best params: {gs.best_params_}\")\n",
    "print(f\"Best score: {gs.best_score_}\")\n",
    "\n",
    "# Save the best model\n",
    "best_model = gs.best_estimator_\n",
    "joblib.dump(best_model, \"saved_models/logistic_best_model_9.joblib\")\n"
   ]
  },
  {
   "cell_type": "markdown",
   "id": "7a8e8dbd-b4a9-4ae7-9d3b-427593346fa9",
   "metadata": {},
   "source": [
    "### **6.4. Model selection**"
   ]
  },
  {
   "cell_type": "markdown",
   "id": "8aeefdfe-0026-45d9-b329-4438bc9b5405",
   "metadata": {},
   "source": [
    "As we can see the difference between Training Accuracy: 0.80 and Test Accuracy: 0.61 decreases from 30% in the initial training to 19% with dimensionality reduction and merging classes. Our model still overfits.\n",
    "\n",
    "We have our report from the grid search below:\n",
    "\n",
    "    Best params: {'classifier__C': 100, 'classifier__class_weight': None, 'classifier__penalty': 'l2', 'classifier__solver': 'lbfgs', 'preprocessor__annotation_svd__truncatedsvd__n_components': 150, 'preprocessor__num_pca__pca__n_components': 0.99, 'preprocessor__text_svd__truncatedsvd__n_components': 150}\n",
    "    Best score: 0.6116042980716131"
   ]
  },
  {
   "cell_type": "markdown",
   "id": "1b828e4e-32f4-4489-956f-b6f0653e2558",
   "metadata": {},
   "source": [
    "- Grid search selected C = 100 with L2 combined with 'lbfgs' solver. It may be because the model will overfit more with our data if it penalizes more with smaller C.\n",
    "- The maximum values of TruncatedSVD and PCA suggest that the model tends to keep the variance in the our data which is expected with unstructured data as long texts."
   ]
  },
  {
   "cell_type": "markdown",
   "id": "4352ebfc-1b62-43d5-bfe2-bb88406c1554",
   "metadata": {},
   "source": [
    "### **6.5. Model inspection**"
   ]
  },
  {
   "cell_type": "code",
   "execution_count": 63,
   "id": "26aaae6a-f553-4a16-a350-fbb8176416e4",
   "metadata": {},
   "outputs": [],
   "source": [
    "model = joblib.load(\"saved_models/logistic_best_model_9.joblib\")"
   ]
  },
  {
   "cell_type": "code",
   "execution_count": 64,
   "id": "52ba23e7-94ea-4188-8df4-271bbe63b585",
   "metadata": {},
   "outputs": [],
   "source": [
    "estimator = model.named_steps[\"classifier\"]"
   ]
  },
  {
   "cell_type": "code",
   "execution_count": 65,
   "id": "e8a7a210-4bb8-473c-8b0c-9421bba29f4d",
   "metadata": {},
   "outputs": [],
   "source": [
    "coefficients = estimator.coef_"
   ]
  },
  {
   "cell_type": "code",
   "execution_count": 66,
   "id": "2ef396e5-b92e-4648-b7f3-a25707ee7cc2",
   "metadata": {},
   "outputs": [],
   "source": [
    "intercept = estimator.intercept_"
   ]
  },
  {
   "cell_type": "code",
   "execution_count": 67,
   "id": "495e8383-17a4-49d3-9e1f-ddd01aa46f56",
   "metadata": {},
   "outputs": [
    {
     "data": {
      "text/plain": [
       "-32.76684354891626"
      ]
     },
     "execution_count": 67,
     "metadata": {},
     "output_type": "execute_result"
    }
   ],
   "source": [
    "estimator.coef_.min()"
   ]
  },
  {
   "cell_type": "code",
   "execution_count": 68,
   "id": "961bda2d-4e60-4a70-9538-73d1eccccb09",
   "metadata": {},
   "outputs": [
    {
     "data": {
      "text/plain": [
       "27.139424855043394"
      ]
     },
     "execution_count": 68,
     "metadata": {},
     "output_type": "execute_result"
    }
   ],
   "source": [
    "estimator.coef_.max()"
   ]
  },
  {
   "cell_type": "code",
   "execution_count": 69,
   "id": "39a2ccc5-04cb-48bb-bcfb-a617b46b1896",
   "metadata": {},
   "outputs": [
    {
     "data": {
      "image/png": "[encoded data removed]",
      "text/plain": [
       "<Figure size 1000x600 with 1 Axes>"
      ]
     },
     "metadata": {},
     "output_type": "display_data"
    }
   ],
   "source": [
    "plot_parameter_distribution(estimator, parameter=\"coefficients\")"
   ]
  },
  {
   "cell_type": "markdown",
   "id": "29087b9b-942e-43aa-9195-e5968cbf3da8",
   "metadata": {},
   "source": [
    "After the transformations the distribution is wider with a more even spread of coefficients. Again most of the coefficents are close to 0 but other coefficients are spread out over a range of values. This is expected after the Dimensionality reduction and the resampling of classes. "
   ]
  },
  {
   "cell_type": "code",
   "execution_count": 70,
   "id": "928383cb-0572-4c09-8e17-ea26e07affb0",
   "metadata": {},
   "outputs": [
    {
     "data": {
      "text/plain": [
       "array([ 2.55399771,  1.32938991,  1.94684623, -1.85388097, -0.03988484,\n",
       "       -1.26271663, -1.76327705,  3.412733  ,  1.75076916,  1.68323765,\n",
       "        3.12734163,  4.02134957,  1.51761683, -2.15565482,  1.5016003 ,\n",
       "        0.46544858,  1.47987982, -4.35114738,  1.49509767, -1.19800622,\n",
       "       -1.59005985,  2.8720104 , -1.66784121, -5.49161601, -9.50960191,\n",
       "       -5.39928124, -3.90511548, -5.79347967, -4.895805  , -2.76869402,\n",
       "       -1.00531814, -3.93205648, -5.47637797, -7.67046018, -3.17471602,\n",
       "       -3.0026326 , -4.47544168,  2.33775615, -7.16535015,  1.40222127,\n",
       "       -4.44113873,  1.98169025,  3.70121016,  3.71342577,  2.69938625,\n",
       "        2.01209528,  2.19979311,  0.64088027, -1.91136362,  3.84091668,\n",
       "        4.46170143,  1.35716286,  1.02692879,  1.79539714,  2.22232479,\n",
       "        3.82504222,  3.81615819, -0.62171137,  4.65165015,  1.86659915,\n",
       "        1.93358737,  3.44447405,  2.83683936,  1.25222926,  3.17341083,\n",
       "        5.17243   ])"
      ]
     },
     "execution_count": 70,
     "metadata": {},
     "output_type": "execute_result"
    }
   ],
   "source": [
    "intercept"
   ]
  },
  {
   "cell_type": "code",
   "execution_count": 71,
   "id": "892a9b29-2002-4765-8dd5-116b9c30d0a9",
   "metadata": {},
   "outputs": [
    {
     "data": {
      "text/plain": [
       "-9.509601912269844"
      ]
     },
     "execution_count": 71,
     "metadata": {},
     "output_type": "execute_result"
    }
   ],
   "source": [
    "intercept.min()"
   ]
  },
  {
   "cell_type": "code",
   "execution_count": 72,
   "id": "3678b75b-59df-4ee5-b98d-e3ede4257e37",
   "metadata": {},
   "outputs": [
    {
     "data": {
      "text/plain": [
       "5.17242999563668"
      ]
     },
     "execution_count": 72,
     "metadata": {},
     "output_type": "execute_result"
    }
   ],
   "source": [
    "intercept.max()"
   ]
  },
  {
   "cell_type": "code",
   "execution_count": 73,
   "id": "b7634728-9b79-495c-ace3-ae89ec393045",
   "metadata": {},
   "outputs": [
    {
     "data": {
      "image/png": "[encoded data removed]",
      "text/plain": [
       "<Figure size 1000x600 with 1 Axes>"
      ]
     },
     "metadata": {},
     "output_type": "display_data"
    }
   ],
   "source": [
    "plot_parameter_distribution(estimator, parameter=\"intercept\")"
   ]
  },
  {
   "cell_type": "markdown",
   "id": "bd3d7eba-a956-4213-989b-75707fe153e0",
   "metadata": {},
   "source": [
    "The spread and skewness of intercepts can have implications for the bias of the model."
   ]
  },
  {
   "cell_type": "markdown",
   "id": "f87a92c6-1dab-4a98-bf8c-e49879cd1226",
   "metadata": {},
   "source": [
    "### **6.6. Model interpretation**"
   ]
  },
  {
   "cell_type": "code",
   "execution_count": 77,
   "id": "d3a12f5a-f627-4d9f-bb96-d592e65edaac",
   "metadata": {
    "scrolled": true
   },
   "outputs": [
    {
     "name": "stdout",
     "output_type": "stream",
     "text": [
      "Training Accuracy: 0.8079410886655388\n",
      "Test Accuracy: 0.6032630322323915\n",
      "Training Classification Report:\n",
      "              precision    recall  f1-score   support\n",
      "\n",
      "         1.0       0.88      0.86      0.87        83\n",
      "         2.0       0.93      0.94      0.94       104\n",
      "         6.0       0.92      0.96      0.94        48\n",
      "         7.0       1.00      0.50      0.67         2\n",
      "         9.0       1.00      0.80      0.89         5\n",
      "        12.0       1.00      1.00      1.00         6\n",
      "        19.0       1.00      1.00      1.00        25\n",
      "        20.0       1.00      0.96      0.98        28\n",
      "        30.0       0.96      0.94      0.95        52\n",
      "        33.0       1.00      1.00      1.00         3\n",
      "        34.0       1.00      0.92      0.96        25\n",
      "        37.0       0.96      0.92      0.94        50\n",
      "        38.0       0.98      0.89      0.93        53\n",
      "        39.0       1.00      1.00      1.00         2\n",
      "        44.0       1.00      1.00      1.00        18\n",
      "        45.0       0.97      1.00      0.98        32\n",
      "        50.0       0.93      0.72      0.81        18\n",
      "        57.0       1.00      1.00      1.00         2\n",
      "        63.0       1.00      1.00      1.00        14\n",
      "        64.0       1.00      0.95      0.98        21\n",
      "        65.0       1.00      1.00      1.00        11\n",
      "        66.0       0.93      0.89      0.91        73\n",
      "        68.0       1.00      1.00      1.00         5\n",
      "        69.0       0.76      0.79      0.78        81\n",
      "        70.0       1.00      1.00      1.00         6\n",
      "        71.0       0.93      0.95      0.94        42\n",
      "        72.0       1.00      1.00      1.00         6\n",
      "        73.0       0.95      0.92      0.93        38\n",
      "        74.0       1.00      0.83      0.91         6\n",
      "        75.0       1.00      1.00      1.00        11\n",
      "        77.0       0.90      0.96      0.93        47\n",
      "        78.0       1.00      1.00      1.00         7\n",
      "        79.0       0.88      0.91      0.90        58\n",
      "        80.0       0.93      0.98      0.95        52\n",
      "        83.0       0.88      1.00      0.93        42\n",
      "        84.0       0.86      0.94      0.90        51\n",
      "        85.0       0.83      0.92      0.87       121\n",
      "        86.0       0.97      0.94      0.96       150\n",
      "        88.0       1.00      1.00      1.00         5\n",
      "        89.0       1.00      0.98      0.99        49\n",
      "        90.0       1.00      0.89      0.94         9\n",
      "        91.0       0.88      0.79      0.83       257\n",
      "        92.0       0.96      0.92      0.94        75\n",
      "        93.0       0.88      0.77      0.82       173\n",
      "        95.0       1.00      0.90      0.95        21\n",
      "        96.0       1.00      0.94      0.97        32\n",
      "        98.0       1.00      0.86      0.92        42\n",
      "       107.0       0.74      0.65      0.69       366\n",
      "       108.0       1.00      1.00      1.00        39\n",
      "       109.0       0.79      0.64      0.71       840\n",
      "       110.0       0.82      0.88      0.85      1448\n",
      "       114.0       0.88      0.80      0.84       157\n",
      "       116.0       0.87      0.91      0.89        45\n",
      "       118.0       1.00      0.87      0.93        30\n",
      "       119.0       0.79      0.62      0.70       133\n",
      "       120.0       0.84      0.88      0.86       121\n",
      "       121.0       0.67      0.75      0.71      1134\n",
      "       129.0       1.00      1.00      1.00         6\n",
      "       131.0       0.95      0.81      0.88        26\n",
      "       132.0       0.77      0.84      0.80      1622\n",
      "       133.0       0.71      0.31      0.44        86\n",
      "       134.0       0.77      0.79      0.78       629\n",
      "       135.0       0.84      0.87      0.85       948\n",
      "       136.0       0.82      0.68      0.74       158\n",
      "       138.0       0.98      0.78      0.87        63\n",
      "      1067.0       0.68      0.51      0.58       137\n",
      "\n",
      "    accuracy                           0.81     10049\n",
      "   macro avg       0.92      0.88      0.90     10049\n",
      "weighted avg       0.81      0.81      0.81     10049\n",
      "\n",
      "Test Classification Report:\n",
      "              precision    recall  f1-score   support\n",
      "\n",
      "         1.0       0.23      0.24      0.23        21\n",
      "         2.0       0.58      0.58      0.58        26\n",
      "         6.0       1.00      0.58      0.74        12\n",
      "         9.0       0.00      0.00      0.00         1\n",
      "        12.0       0.00      0.00      0.00         1\n",
      "        19.0       1.00      0.83      0.91         6\n",
      "        20.0       0.44      0.57      0.50         7\n",
      "        30.0       0.30      0.46      0.36        13\n",
      "        33.0       0.00      0.00      0.00         1\n",
      "        34.0       0.56      0.83      0.67         6\n",
      "        37.0       0.50      0.46      0.48        13\n",
      "        38.0       0.44      0.54      0.48        13\n",
      "        39.0       0.00      0.00      0.00         1\n",
      "        44.0       0.00      0.00      0.00         4\n",
      "        45.0       0.57      0.50      0.53         8\n",
      "        50.0       0.00      0.00      0.00         4\n",
      "        57.0       0.00      0.00      0.00         1\n",
      "        63.0       0.00      0.00      0.00         3\n",
      "        64.0       0.67      0.40      0.50         5\n",
      "        65.0       0.00      0.00      0.00         3\n",
      "        66.0       0.62      0.56      0.59        18\n",
      "        68.0       1.00      1.00      1.00         1\n",
      "        69.0       0.16      0.20      0.18        20\n",
      "        70.0       0.00      0.00      0.00         1\n",
      "        71.0       0.28      0.45      0.34        11\n",
      "        72.0       1.00      1.00      1.00         1\n",
      "        73.0       0.62      0.50      0.56        10\n",
      "        74.0       0.00      0.00      0.00         2\n",
      "        75.0       0.00      0.00      0.00         3\n",
      "        77.0       0.36      0.33      0.35        12\n",
      "        78.0       0.00      0.00      0.00         2\n",
      "        79.0       0.43      0.21      0.29        14\n",
      "        80.0       0.70      0.54      0.61        13\n",
      "        83.0       0.50      0.80      0.62        10\n",
      "        84.0       0.40      0.46      0.43        13\n",
      "        85.0       0.48      0.71      0.57        31\n",
      "        86.0       0.72      0.68      0.70        38\n",
      "        88.0       1.00      1.00      1.00         1\n",
      "        89.0       0.67      0.50      0.57        12\n",
      "        90.0       0.00      0.00      0.00         2\n",
      "        91.0       0.63      0.51      0.56        65\n",
      "        92.0       0.33      0.26      0.29        19\n",
      "        93.0       0.55      0.51      0.53        43\n",
      "        95.0       0.00      0.00      0.00         5\n",
      "        96.0       0.17      0.12      0.14         8\n",
      "        98.0       0.50      0.10      0.17        10\n",
      "       107.0       0.54      0.50      0.52        92\n",
      "       108.0       1.00      0.30      0.46        10\n",
      "       109.0       0.65      0.48      0.55       210\n",
      "       110.0       0.71      0.79      0.75       362\n",
      "       114.0       0.65      0.44      0.52        39\n",
      "       116.0       0.50      0.27      0.35        11\n",
      "       118.0       0.11      0.14      0.12         7\n",
      "       119.0       0.44      0.21      0.29        33\n",
      "       120.0       0.57      0.55      0.56        31\n",
      "       121.0       0.52      0.62      0.56       284\n",
      "       129.0       0.00      0.00      0.00         1\n",
      "       131.0       0.50      0.14      0.22         7\n",
      "       132.0       0.67      0.78      0.72       406\n",
      "       133.0       0.33      0.14      0.20        21\n",
      "       134.0       0.64      0.67      0.66       157\n",
      "       135.0       0.70      0.75      0.73       237\n",
      "       136.0       0.57      0.33      0.41        40\n",
      "       138.0       0.33      0.12      0.18        16\n",
      "      1067.0       0.24      0.14      0.18        35\n",
      "\n",
      "    accuracy                           0.60      2513\n",
      "   macro avg       0.42      0.37      0.38      2513\n",
      "weighted avg       0.60      0.60      0.59      2513\n",
      "\n",
      "\n"
     ]
    }
   ],
   "source": [
    "train_acc, test_acc, train_report, test_report = evaluate_model(model, X_train, y_train, X_test, y_test)\n",
    "print(f\"Training Accuracy: {train_acc}\")\n",
    "print(f\"Test Accuracy: {test_acc}\")\n",
    "print(f\"Training Classification Report:\\n{train_report}\")\n",
    "print(f\"Test Classification Report:\\n{test_report}\\n\")"
   ]
  },
  {
   "cell_type": "markdown",
   "id": "94449611-8459-43ff-bb9c-04760fe4e581",
   "metadata": {},
   "source": [
    "**Training Performance:**\n",
    "- The model achieves an accuracy of approximately 80.5% on the training set. This indicates that it is able to correctly predict the outcome for a significant majority of the training data.\n",
    "- The classification report shows high precision and recall for several classes, which means the model is correctly identifying a high number of true positives and not misclassifying many negatives as positives for those classes.\n",
    "- However, some classes (class 7.0 and 39.0) have no instances, indicated by precision, recall, and f1-score all being 0. This could be due to a lack of representation of these classes in the training data.\n",
    "- The model performs exceptionally well for certain classes (class 19.0, 33.0, and 88.0) with perfect precision, recall, and f1-scores of 1.0, suggesting these classes have distinctive features that are easily recognized by the model.\n",
    "- The weighted average f1-score is consistent with the overall accuracy, which indicates a good balance between precision and recall across all classes, weighted by the number of true instances for each class.\n",
    "\n",
    "**Test Performance:**\n",
    "- There is a significant drop in accuracy when the model is applied to the test set, with an accuracy of approximately 61.3% but better when comparing with the previous training. The model may not generalize well to unseen data, a sign of potential overfitting to the training data.\n",
    "- The precision and recall values are lower on the test set across most classes, and the f1-scores follow, which is typical as the model is now being evaluated on data it hasn't seen before.\n",
    "- For several classes, precision and recall are significantly lower on the test set compared to the training set (class 1.0, class 2.0), indicating a loss of predictive power.\n",
    "- Some classes show particularly low recall (class 79.0, class 118.0) on the test set, meaning the model misses a high number of actual positives for these classes when making predictions.\n",
    "- The weighted average f1-score on the test data is lower than the training data, as expected from the overall reduced performance.\n"
   ]
  },
  {
   "cell_type": "markdown",
   "id": "6571625f-c819-4523-9b2f-99b295f622ad",
   "metadata": {},
   "source": [
    "The discrepancy between training and test performance suggests that the model may be overfitting to the training data. The model's high bias towards certain classes could be due to class imbalance in the training data, where some classes have many more samples than others, leading the model to predict more frequently occurring classes better. Model complexity, feature selection, and the regularization applied might need to be adjusted to improve the model's generalization capabilities. It might be good to look into other resampling techniques, gathering more data, or feature engineering to improve the model's ability to generalize. "
   ]
  },
  {
   "cell_type": "code",
   "execution_count": null,
   "id": "abc3aee3-8e17-40c8-bcd7-231491412d89",
   "metadata": {},
   "outputs": [],
   "source": [
    "books_category"
   ]
  },
  {
   "cell_type": "markdown",
   "id": "b82e6f8a-ac18-462e-ae44-50760cd8df3d",
   "metadata": {},
   "source": [
    "### **6.7. Inference with never seen and fictional data**"
   ]
  },
  {
   "cell_type": "code",
   "execution_count": 4,
   "id": "78c1093d-59ad-4de9-a08f-a9a86fb525de",
   "metadata": {
    "id": "ukICjMjKP-1D"
   },
   "outputs": [],
   "source": [
    "import joblib\n",
    "import pandas as pd\n",
    "model = joblib.load('saved_models/logistic_best_model_9.joblib')"
   ]
  },
  {
   "cell_type": "code",
   "execution_count": 5,
   "id": "d01ddbff-9a45-4daf-8140-0f625b884b01",
   "metadata": {},
   "outputs": [],
   "source": [
    "never_seen = pd.read_csv(\"never_seen_data.csv\")"
   ]
  },
  {
   "cell_type": "code",
   "execution_count": 6,
   "id": "82694c88-4c7e-41e8-a398-18c282f418d2",
   "metadata": {
    "colab": {
     "base_uri": "https://localhost:8080/",
     "height": 323
    },
    "id": "WG9On9DqEVvF",
    "outputId": "368e6e21-4981-420d-e2f9-16a620f6d588"
   },
   "outputs": [],
   "source": [
    "predictions = model.predict(never_seen)"
   ]
  },
  {
   "cell_type": "code",
   "execution_count": 10,
   "id": "8308faa1-acfd-4835-8547-40aefd09382e",
   "metadata": {
    "colab": {
     "base_uri": "https://localhost:8080/"
    },
    "id": "ElAR2oxWS0hU",
    "outputId": "3e68166c-9b04-42f3-a998-69fdb12409ef"
   },
   "outputs": [],
   "source": [
    "id_to_name = dict(zip(books_category.id, books_category.name))\n",
    "never_seen[\"predictions\"] = [id_to_name[pred] for pred in predictions]"
   ]
  },
  {
   "cell_type": "code",
   "execution_count": 11,
   "id": "aea99b8b-8b57-4e8c-8db4-085946b207ac",
   "metadata": {},
   "outputs": [
    {
     "data": {
      "text/html": [
       "<div>\n",
       "<style scoped>\n",
       "    .dataframe tbody tr th:only-of-type {\n",
       "        vertical-align: middle;\n",
       "    }\n",
       "\n",
       "    .dataframe tbody tr th {\n",
       "        vertical-align: top;\n",
       "    }\n",
       "\n",
       "    .dataframe thead th {\n",
       "        text-align: right;\n",
       "    }\n",
       "</style>\n",
       "<table border=\"1\" class=\"dataframe\">\n",
       "  <thead>\n",
       "    <tr style=\"text-align: right;\">\n",
       "      <th></th>\n",
       "      <th>Unnamed: 0</th>\n",
       "      <th>title</th>\n",
       "      <th>author</th>\n",
       "      <th>annotation</th>\n",
       "      <th>content_type</th>\n",
       "      <th>publisher</th>\n",
       "      <th>nationality</th>\n",
       "      <th>translator</th>\n",
       "      <th>page_count</th>\n",
       "      <th>predictions</th>\n",
       "    </tr>\n",
       "  </thead>\n",
       "  <tbody>\n",
       "    <tr>\n",
       "      <th>0</th>\n",
       "      <td>0</td>\n",
       "      <td>Избрани творби</td>\n",
       "      <td>Христо Ботев</td>\n",
       "      <td>Вярвам е единната обща сила на человеческий ро...</td>\n",
       "      <td>стихосбирка; разкази</td>\n",
       "      <td>Издателство Български писател</td>\n",
       "      <td>българска</td>\n",
       "      <td>Missing</td>\n",
       "      <td>208.0</td>\n",
       "      <td>Наука, технологии, образование</td>\n",
       "    </tr>\n",
       "    <tr>\n",
       "      <th>1</th>\n",
       "      <td>1</td>\n",
       "      <td>Смъртта е занимание самотно</td>\n",
       "      <td>Рей Бредбъри</td>\n",
       "      <td>Мъгливо градче в щата Калифорния, където време...</td>\n",
       "      <td>роман</td>\n",
       "      <td>Сиела Норма АД</td>\n",
       "      <td>американска</td>\n",
       "      <td>Жени Божилова</td>\n",
       "      <td>271.0</td>\n",
       "      <td>Научна фантастика</td>\n",
       "    </tr>\n",
       "    <tr>\n",
       "      <th>2</th>\n",
       "      <td>2</td>\n",
       "      <td>Залезът на боговете</td>\n",
       "      <td>Фридрих Ницше</td>\n",
       "      <td>В книгата Ницще обръща внимание на настъпилото...</td>\n",
       "      <td>Философски сборник</td>\n",
       "      <td>NaN</td>\n",
       "      <td>немска</td>\n",
       "      <td>Георги Кайтазов</td>\n",
       "      <td>100.0</td>\n",
       "      <td>История</td>\n",
       "    </tr>\n",
       "    <tr>\n",
       "      <th>3</th>\n",
       "      <td>3</td>\n",
       "      <td>Истории от гетото</td>\n",
       "      <td>Мишо Шамара</td>\n",
       "      <td>Книгата е своеобразна изповед на един рапър из...</td>\n",
       "      <td>Разказ</td>\n",
       "      <td>Георги Кирков</td>\n",
       "      <td>българска</td>\n",
       "      <td>Missing</td>\n",
       "      <td>250.0</td>\n",
       "      <td>Българска документална проза</td>\n",
       "    </tr>\n",
       "    <tr>\n",
       "      <th>4</th>\n",
       "      <td>4</td>\n",
       "      <td>Как НАСА създава екипи</td>\n",
       "      <td>Чарлс Дж. Пелерин</td>\n",
       "      <td>Мислите, че традиционните семинари за изгражда...</td>\n",
       "      <td>Изследвания</td>\n",
       "      <td>Инфодар</td>\n",
       "      <td>американска</td>\n",
       "      <td>Александра Павлова</td>\n",
       "      <td>348.0</td>\n",
       "      <td>Биографии и автобиографии</td>\n",
       "    </tr>\n",
       "    <tr>\n",
       "      <th>5</th>\n",
       "      <td>5</td>\n",
       "      <td>Боксьорът. Истинската история на Херцко Хафт</td>\n",
       "      <td>Райнхард Клайст</td>\n",
       "      <td>Преди да навърши 16 години Херцко Хафт попада ...</td>\n",
       "      <td>Графичен роман</td>\n",
       "      <td>Еастра</td>\n",
       "      <td>немска</td>\n",
       "      <td>Добринка Лазарова</td>\n",
       "      <td>200.0</td>\n",
       "      <td>Документална проза</td>\n",
       "    </tr>\n",
       "    <tr>\n",
       "      <th>6</th>\n",
       "      <td>6</td>\n",
       "      <td>Хаджи Димитър</td>\n",
       "      <td>Христо Ботев</td>\n",
       "      <td>Книжката включва стихотворението Хаджи Димитър...</td>\n",
       "      <td>стихосбирка; разкази</td>\n",
       "      <td>Издателство Български писател</td>\n",
       "      <td>българска</td>\n",
       "      <td>Missing</td>\n",
       "      <td>16.0</td>\n",
       "      <td>Съвременна българска поезия</td>\n",
       "    </tr>\n",
       "    <tr>\n",
       "      <th>7</th>\n",
       "      <td>7</td>\n",
       "      <td>Под Игото</td>\n",
       "      <td>ИВан Вазов</td>\n",
       "      <td>Романът пресъздава живота на един поробен наро...</td>\n",
       "      <td>роман</td>\n",
       "      <td>Български писател</td>\n",
       "      <td>българска</td>\n",
       "      <td>Missing</td>\n",
       "      <td>436.0</td>\n",
       "      <td>Съвременни български романи и повести</td>\n",
       "    </tr>\n",
       "  </tbody>\n",
       "</table>\n",
       "</div>"
      ],
      "text/plain": [
       "   Unnamed: 0                                         title  \\\n",
       "0           0                                Избрани творби   \n",
       "1           1                   Смъртта е занимание самотно   \n",
       "2           2                           Залезът на боговете   \n",
       "3           3                             Истории от гетото   \n",
       "4           4                        Как НАСА създава екипи   \n",
       "5           5  Боксьорът. Истинската история на Херцко Хафт   \n",
       "6           6                                 Хаджи Димитър   \n",
       "7           7                                     Под Игото   \n",
       "\n",
       "              author                                         annotation  \\\n",
       "0       Христо Ботев  Вярвам е единната обща сила на человеческий ро...   \n",
       "1       Рей Бредбъри  Мъгливо градче в щата Калифорния, където време...   \n",
       "2      Фридрих Ницше  В книгата Ницще обръща внимание на настъпилото...   \n",
       "3        Мишо Шамара  Книгата е своеобразна изповед на един рапър из...   \n",
       "4  Чарлс Дж. Пелерин  Мислите, че традиционните семинари за изгражда...   \n",
       "5    Райнхард Клайст  Преди да навърши 16 години Херцко Хафт попада ...   \n",
       "6       Христо Ботев  Книжката включва стихотворението Хаджи Димитър...   \n",
       "7         ИВан Вазов  Романът пресъздава живота на един поробен наро...   \n",
       "\n",
       "           content_type                      publisher  nationality  \\\n",
       "0  стихосбирка; разкази  Издателство Български писател    българска   \n",
       "1                 роман                 Сиела Норма АД  американска   \n",
       "2    Философски сборник                            NaN       немска   \n",
       "3                Разказ                  Георги Кирков    българска   \n",
       "4           Изследвания                        Инфодар  американска   \n",
       "5        Графичен роман                         Еастра       немска   \n",
       "6  стихосбирка; разкази  Издателство Български писател    българска   \n",
       "7                 роман              Български писател    българска   \n",
       "\n",
       "           translator  page_count                            predictions  \n",
       "0             Missing       208.0         Наука, технологии, образование  \n",
       "1       Жени Божилова       271.0                      Научна фантастика  \n",
       "2     Георги Кайтазов       100.0                                История  \n",
       "3             Missing       250.0           Българска документална проза  \n",
       "4  Александра Павлова       348.0              Биографии и автобиографии  \n",
       "5   Добринка Лазарова       200.0                     Документална проза  \n",
       "6             Missing        16.0            Съвременна българска поезия  \n",
       "7             Missing       436.0  Съвременни български романи и повести  "
      ]
     },
     "execution_count": 11,
     "metadata": {},
     "output_type": "execute_result"
    }
   ],
   "source": [
    "never_seen"
   ]
  },
  {
   "cell_type": "markdown",
   "id": "5f620b45-7354-44d7-8d20-879eeb259f9d",
   "metadata": {},
   "source": [
    "As we can see the model can generalize in column predictions over unknown data. It gives plausible results over non existing books too (Истории от гетото, Мишо Шамара). We can predict the category of books from the new dataset with relative success. Actualy the model doesn't have information about which Bulgarian writer is from the times of the Bulgarian Renaissance but as a whole predict surelly whether it is not foreign author."
   ]
  },
  {
   "cell_type": "markdown",
   "id": "8e78ee3b-8643-4422-8e28-4f32417d9a31",
   "metadata": {},
   "source": [
    "## **7. Conclusions**\n",
    "\n",
    "#### Overfitting Issue:\n",
    "   - Even though we decreased the overfitting of the model, some minority classes still overfit. However the gap between tarining and testing results decreased.\n",
    "\n",
    "#### Handling of Minority Classes:\n",
    "   - While it also faces challenges with classes having no instances the overall performance of classes appears more balanced when we simplified the model/data .\n",
    "\n",
    "#### Class Imbalance:\n",
    "   - The data has significant class imbalance, but can be handled with undersampling of the majority class or oversampling the minority.\n",
    "\n",
    "#### Model complexity:\n",
    "   - Logistic regression as a not very complex model performs relatively well, but the use of ensemble models should be considered. With unstructured data, the best results would be the use of neural network."
   ]
  },
  {
   "cell_type": "markdown",
   "id": "2330f3f7-6760-4df5-918c-a74647f95d61",
   "metadata": {},
   "source": [
    "\n",
    "Let's try to \"Judge the book by its cover\"!"
   ]
  },
  {
   "cell_type": "markdown",
   "id": "12ec0589-f2ac-475d-ad4d-40111344d407",
   "metadata": {},
   "source": [
    "## **8. Inference from a book cover with GPT 4**"
   ]
  },
  {
   "cell_type": "markdown",
   "id": "614361a7-33bc-4ca4-a55e-2d0506521a24",
   "metadata": {},
   "source": [
    "We use the GPT 4 API to search information about a book by its cover image. "
   ]
  },
  {
   "cell_type": "code",
   "execution_count": 79,
   "id": "41495816-09a1-4448-af03-573c4b639e05",
   "metadata": {},
   "outputs": [],
   "source": [
    "def analyze_image_with_openai(image_path, api_key):\n",
    "    \"\"\"\n",
    "    Analyze an image using OpenAI's API.\n",
    "\n",
    "    :param image_path: Path to the image file.\n",
    "    :param api_key: OpenAI API Key.\n",
    "    :return: The API's response as a JSON object.\n",
    "    \"\"\"\n",
    "    def encode_image(image_path):\n",
    "        with open(image_path, \"rb\") as image_file:\n",
    "            return base64.b64encode(image_file.read()).decode('utf-8')\n",
    "\n",
    "    # Getting the base64 string\n",
    "    base64_image = encode_image(image_path)\n",
    "\n",
    "    headers = {\n",
    "        \"Content-Type\": \"application/json\",\n",
    "        \"Authorization\": f\"Bearer {api_key}\"\n",
    "    }\n",
    "\n",
    "    payload = {\n",
    "        \"model\": \"gpt-4-vision-preview\",\n",
    "        \"messages\": [\n",
    "            {\n",
    "                \"role\": \"user\",\n",
    "                \"content\": [\n",
    "                    {\n",
    "                        \"type\": \"text\",\n",
    "                        \"text\": \"What’s in this image?\"\n",
    "                    },\n",
    "                    {\n",
    "                        \"type\": \"image_url\",\n",
    "                        \"image_url\": {\n",
    "                            \"url\": f\"data:image/jpeg;base64,{base64_image}\"\n",
    "                        }\n",
    "                    }\n",
    "                ]\n",
    "            }\n",
    "        ],\n",
    "        \"max_tokens\": 300\n",
    "    }\n",
    "\n",
    "    response = requests.post(\"https://api.openai.com/v1/chat/completions\", headers=headers, json=payload)\n",
    "    return response.json()"
   ]
  },
  {
   "cell_type": "markdown",
   "id": "98adf23a-9e54-4f75-935d-5767e5fabd7e",
   "metadata": {},
   "source": [
    "We use the cover of the book \"House of cards\""
   ]
  },
  {
   "cell_type": "code",
   "execution_count": 80,
   "id": "c6fdda31-9fec-4b71-9431-5383820f6ea4",
   "metadata": {},
   "outputs": [
    {
     "name": "stdout",
     "output_type": "stream",
     "text": [
      "{'id': 'chatcmpl-8QZNMwPmTQeCe3GdbtSCuBOqAk11Q', 'object': 'chat.completion', 'created': 1701343204, 'model': 'gpt-4-1106-vision-preview', 'usage': {'prompt_tokens': 778, 'completion_tokens': 249, 'total_tokens': 1027}, 'choices': [{'message': {'role': 'assistant', 'content': 'This image is of a book cover. The title of the book is \"Къща от карти\" which translates to \"House of Cards\" from Bulgarian. The author\\'s name is \"Майкъл Добс\" or Michael Dobbs in English. Below the title, there\\'s a tagline in Bulgarian that reads: \"Бестселърът, който вдъхнови хитовата серия на Netflix КЪЩА ОТ КАРТИ\" which translates to \"The bestseller that inspired the hit Netflix series HOUSE OF CARDS.\"\\n\\nThe cover features an image of a leather armchair with visible signs of wear and tear, including what appears to be slashes on the backrest, suggesting damage or violence. The background is dark, with silhouettes of what seems to be a cityscape or possibly iconic buildings that may be related to the political themes in \"House of Cards.\" The publisher\\'s logo \"ciela\" is displayed at the bottom.\\n\\nThe design of the cover and the references to the Netflix series suggest that the book is a political thriller or drama, likely related to the same material as the TV series it inspired.'}, 'finish_details': {'type': 'stop', 'stop': '<|fim_suffix|>'}, 'index': 0}]}\n"
     ]
    }
   ],
   "source": [
    "# Example Usage\n",
    "api_key = \"YOUR-API-KEY\"\n",
    "image_path = \"covers/4_cover.jpg\"\n",
    "result = analyze_image_with_openai(image_path, api_key)\n",
    "print(result)"
   ]
  },
  {
   "cell_type": "markdown",
   "id": "fbe1ca9d-6cf9-4444-bce6-cbc446841e66",
   "metadata": {},
   "source": [
    "As we can see the cover of the Bulgarian edition of \"House of cards\" gives us the whole information to classify the book. \n",
    "- Title: \"Къща от карти\"\n",
    "- Author: \"Майкъл Добс\"\n",
    "- Publisher: \"CIELA\"\n",
    "- nationality: \"Bulgarian\"\n",
    "- Annotation: \"A translation of Michael Dobbs's novel \"House of Cards\", which inspired the popular television series of the same name.  \"\n",
    "- Category: political drama"
   ]
  },
  {
   "cell_type": "markdown",
   "id": "837d39a5-fa65-4dcb-a012-08998cac0d5f",
   "metadata": {},
   "source": [
    "We use the cover of the book \"The Shining\""
   ]
  },
  {
   "cell_type": "code",
   "execution_count": 81,
   "id": "54337fd6-045a-44b1-b890-5260c9cb18ec",
   "metadata": {},
   "outputs": [
    {
     "name": "stdout",
     "output_type": "stream",
     "text": [
      "{'id': 'chatcmpl-8QZO4jh8gmEYLPblGFGf7skin8zAd', 'object': 'chat.completion', 'created': 1701343248, 'model': 'gpt-4-1106-vision-preview', 'usage': {'prompt_tokens': 1118, 'completion_tokens': 179, 'total_tokens': 1297}, 'choices': [{'message': {'role': 'assistant', 'content': 'This is an image of a book cover that appears to be in Cyrillic script. The Cyrillic text at the top is likely the author\\'s name, which reads something similar to \"СТИВЬН КИНГ\", a transliteration of \"Stephen King\" in English. Below it, there\\'s a larger title that reads \"СИЯНИЕ\", which translates to \"The Shining\", a well-known novel by Stephen King.\\n\\nOn the cover art, there\\'s an illustration of a young boy who appears to be frightened or concerned. He is wearing a sweater and is hugging his knees. The style of the artwork suggests it\\'s an older edition or a version published for a non-English market. The book \"The Shining\" is a horror novel, and the portrayal of the boy on the cover captures the unsettling atmosphere typical of the genre.'}, 'finish_details': {'type': 'stop', 'stop': '<|fim_suffix|>'}, 'index': 0}]}\n"
     ]
    }
   ],
   "source": [
    "api_key = \"YOUR-API-KEY\"\n",
    "image_path = \"covers/177_cover.jpg\"\n",
    "result = analyze_image_with_openai(image_path, api_key)\n",
    "print(result)"
   ]
  },
  {
   "cell_type": "markdown",
   "id": "b98cca1a-18af-48c9-8338-06665b54ba3f",
   "metadata": {},
   "source": [
    "Again we have full information about the book, from its cover!"
   ]
  },
  {
   "cell_type": "markdown",
   "id": "4c6b6d8c-d332-48d2-9776-0aeed9b46d62",
   "metadata": {},
   "source": [
    "## **9. References**\n",
    "\n",
    "- [Softuni Machine Learning - септември 2023](https://softuni.bg/trainings/4060/machine-learning-september-2023)\n",
    "- [\"Book Genre Categorization Using Machine Learning Algorithms (K-Nearest\n",
    "Neighbor, Support Vector Machine and Logistic Regression) using Customized\n",
    "Dataset\"](https://www.researchgate.net/publication/350102357_Book_Genre_Categorization_Using_Machine_Learning_Algorithms_K-Nearest_Neighbor_Support_Vector_Machine_and_Logistic_Regression_using_Customized_Dataset)\n",
    "- [\"Judging a Book By its Cover\"](https://arxiv.org/pdf/1610.09204v3.pdf)\n",
    "- [GPT 4 API](https://platform.openai.com/docs/guides/vision)"
   ]
  }
 ],
 "metadata": {
  "kernelspec": {
   "display_name": "Python 3 (ipykernel)",
   "language": "python",
   "name": "python3"
  },
  "language_info": {
   "codemirror_mode": {
    "name": "ipython",
    "version": 3
   },
   "file_extension": ".py",
   "mimetype": "text/x-python",
   "name": "python",
   "nbconvert_exporter": "python",
   "pygments_lexer": "ipython3",
   "version": "3.11.0"
  }
 },
 "nbformat": 4,
 "nbformat_minor": 5
}
